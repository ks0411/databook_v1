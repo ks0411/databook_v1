{
  "cells": [
    {
      "cell_type": "markdown",
      "source": [
        "# Create batch endpoint"
      ],
      "metadata": {}
    },
    {
      "cell_type": "code",
      "source": [
        "from azure.ai.ml import MLClient\n",
        "from azure.ai.ml.entities import BatchEndpoint, BatchDeployment, BatchRetrySettings\n",
        "from azure.identity import DefaultAzureCredential\n",
        "from azure.ai.ml.constants import BatchDeploymentOutputAction"
      ],
      "outputs": [],
      "execution_count": 12,
      "metadata": {}
    },
    {
      "cell_type": "markdown",
      "source": [
        "Parameters"
      ],
      "metadata": {}
    },
    {
      "cell_type": "code",
      "source": [
        "batch_endpoint_name = \"dbcc-batch\"\n",
        "batch_deployment_name = \"DBCC-batch-endpoint-deployment\"\n",
        "compute_name = \"paolt-run-cpu-vm\"\n",
        "environment_name = \"DataBook-Env\"\n",
        "environment_ver = \"3\"\n",
        "model_name = \"dbcc\"\n",
        "model_version = \"1\""
      ],
      "outputs": [],
      "execution_count": 13,
      "metadata": {}
    },
    {
      "cell_type": "code",
      "source": [
        "environment_reference = f\"{environment_name}:{environment_ver}\"\n",
        "model_reference = f\"{model_name}:{model_version}\"\n",
        "environment_reference, model_reference"
      ],
      "outputs": [
        {
          "output_type": "execute_result",
          "execution_count": 14,
          "data": {
            "text/plain": "('DataBook-Env:3', 'dbcc:1')"
          },
          "metadata": {}
        }
      ],
      "execution_count": 14,
      "metadata": {}
    },
    {
      "cell_type": "code",
      "source": [
        "ml_client = MLClient.from_config(\n",
        "    credential=DefaultAzureCredential())\n",
        "ml_client"
      ],
      "outputs": [
        {
          "output_type": "stream",
          "name": "stderr",
          "text": "Found the config file in: /mnt/batch/tasks/shared/LS_root/mounts/clusters/paolt-dev-cpu-vm/code/Users/paolt/databook_v1/.azureml/config.json\n"
        },
        {
          "output_type": "execute_result",
          "execution_count": 15,
          "data": {
            "text/plain": "MLClient(credential=<azure.identity._credentials.default.DefaultAzureCredential object at 0x7f3852e82b20>,\n         subscription_id=fadb1e32-9c96-4180-be9d-1811f4687cca,\n         resource_group_name=paolt-ml-v2,\n         workspace_name=paolt-ml-v2)"
          },
          "metadata": {}
        }
      ],
      "execution_count": 15,
      "metadata": {}
    },
    {
      "cell_type": "code",
      "source": [
        "try:\n",
        "    end_point = ml_client.batch_endpoints.get(name=batch_endpoint_name)\n",
        "    print(f\"Endpoint {batch_endpoint_name} already exists\")\n",
        "except:\n",
        "    endpoint = BatchEndpoint(\n",
        "        name=batch_endpoint_name,\n",
        "        description=\"DBCC Batch end-point\",\n",
        "    )\n",
        "    ml_client.begin_create_or_update(endpoint)"
      ],
      "outputs": [
        {
          "output_type": "stream",
          "name": "stdout",
          "text": "Endpoint dbcc-batch already exists\n"
        }
      ],
      "execution_count": 16,
      "metadata": {}
    },
    {
      "cell_type": "code",
      "source": [
        "# create a batch deployment\n",
        "# we should pair this with the publication of a model - this requires to use the model_path pipeline's output\n",
        "deployment = BatchDeployment(\n",
        "    name=batch_deployment_name,\n",
        "    endpoint_name=batch_endpoint_name,\n",
        "    model=model_reference,\n",
        "    code_path=\"./scripts\",\n",
        "    scoring_script=\"batch-scoring-script.py\",\n",
        "    environment=environment_reference,\n",
        "    compute=compute_name,\n",
        "    instance_count=1,\n",
        "    max_concurrency_per_instance=1,\n",
        "    mini_batch_size=10,\n",
        "    output_action=BatchDeploymentOutputAction.APPEND_ROW,\n",
        "    output_file_name=\"predictions.csv\",\n",
        "    retry_settings=BatchRetrySettings(max_retries=3, timeout=30),\n",
        "    logging_level=\"info\",\n",
        ")"
      ],
      "outputs": [],
      "execution_count": 17,
      "metadata": {}
    },
    {
      "cell_type": "code",
      "source": [
        "ml_client.begin_create_or_update(deployment)"
      ],
      "outputs": [
        {
          "output_type": "execute_result",
          "execution_count": 18,
          "data": {
            "text/plain": "BatchDeployment({'endpoint_name': 'dbcc-batch', 'type': None, 'name': 'dbcc-batch-endpoint-deployment', 'description': None, 'tags': {}, 'properties': {}, 'id': '/subscriptions/fadb1e32-9c96-4180-be9d-1811f4687cca/resourceGroups/paolt-ml-v2/providers/Microsoft.MachineLearningServices/workspaces/paolt-ml-v2/batchEndpoints/dbcc-batch/deployments/dbcc-batch-endpoint-deployment', 'Resource__source_path': None, 'base_path': '/mnt/batch/tasks/shared/LS_root/mounts/clusters/paolt-dev-cpu-vm/code/Users/paolt/databook_v1/mlops', 'creation_context': None, 'serialize': <msrest.serialization.Serializer object at 0x7f3852ea7550>, 'model': '/subscriptions/fadb1e32-9c96-4180-be9d-1811f4687cca/resourceGroups/paolt-ml-v2/providers/Microsoft.MachineLearningServices/workspaces/paolt-ml-v2/models/dbcc/versions/1', 'code_configuration': <azure.ai.ml.entities._deployment.code_configuration.CodeConfiguration object at 0x7f3852e95c40>, 'environment': '/subscriptions/fadb1e32-9c96-4180-be9d-1811f4687cca/resourceGroups/paolt-ml-v2/providers/Microsoft.MachineLearningServices/workspaces/paolt-ml-v2/environments/DataBook-Env/versions/3', 'environment_variables': {}, 'compute': '/subscriptions/fadb1e32-9c96-4180-be9d-1811f4687cca/resourceGroups/paolt-ml-v2/providers/Microsoft.MachineLearningServices/workspaces/paolt-ml-v2/computes/paolt-run-cpu-vm', 'resources': {'instance_count': 1, 'properties': {}}, 'output_action': 'append_row', 'output_file_name': 'predictions.csv', 'error_threshold': -1, 'retry_settings': <azure.ai.ml.entities._deployment.deployment_settings.BatchRetrySettings object at 0x7f3852ea7910>, 'logging_level': 'Info', 'mini_batch_size': 10, 'max_concurrency_per_instance': 1})"
          },
          "metadata": {}
        }
      ],
      "execution_count": 18,
      "metadata": {}
    }
  ],
  "metadata": {
    "kernelspec": {
      "name": "python3",
      "language": "python",
      "display_name": "Python 3 (ipykernel)"
    },
    "language_info": {
      "name": "python",
      "version": "3.8.13",
      "mimetype": "text/x-python",
      "codemirror_mode": {
        "name": "ipython",
        "version": 3
      },
      "pygments_lexer": "ipython3",
      "nbconvert_exporter": "python",
      "file_extension": ".py"
    },
    "orig_nbformat": 4,
    "vscode": {
      "interpreter": {
        "hash": "6d65a8c07f5b6469e0fc613f182488c0dccce05038bbda39e5ac9075c0454d11"
      }
    },
    "kernel_info": {
      "name": "python3"
    },
    "nteract": {
      "version": "nteract-front-end@1.0.0"
    }
  },
  "nbformat": 4,
  "nbformat_minor": 0
}