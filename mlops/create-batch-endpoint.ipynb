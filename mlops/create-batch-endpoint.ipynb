{
 "cells": [
  {
   "cell_type": "markdown",
   "metadata": {},
   "source": [
    "# Create batch endpoint"
   ]
  },
  {
   "cell_type": "code",
   "execution_count": 19,
   "metadata": {},
   "outputs": [],
   "source": [
    "from azure.ai.ml import MLClient\n",
    "from azure.ai.ml.entities import BatchEndpoint, BatchDeployment, BatchRetrySettings\n",
    "from azure.identity import DefaultAzureCredential\n",
    "from azure.ai.ml.constants import BatchDeploymentOutputAction"
   ]
  },
  {
   "cell_type": "markdown",
   "metadata": {},
   "source": [
    "Parameters"
   ]
  },
  {
   "cell_type": "code",
   "execution_count": 20,
   "metadata": {},
   "outputs": [],
   "source": [
    "batch_endpoint_name = \"dbcc-batch\"\n",
    "compute_name = \"paolt-run-cpu-vm\"\n",
    "environment_name = \"DataBook-Env\"\n",
    "environment_ver = \"2\"\n",
    "model_name = \"dbcc\"\n",
    "model_version = \"1\"\n"
   ]
  },
  {
   "cell_type": "code",
   "execution_count": 3,
   "metadata": {},
   "outputs": [
    {
     "name": "stderr",
     "output_type": "stream",
     "text": [
      "Found the config file in: /mnt/batch/tasks/shared/LS_root/mounts/clusters/paolt-dev-cpu-vm/code/Users/paolt/databook_v1/.azureml/config.json\n"
     ]
    },
    {
     "data": {
      "text/plain": [
       "MLClient(credential=<azure.identity._credentials.default.DefaultAzureCredential object at 0x7f8b6139a7c0>,\n",
       "         subscription_id=fadb1e32-9c96-4180-be9d-1811f4687cca,\n",
       "         resource_group_name=paolt-ml-v2,\n",
       "         workspace_name=paolt-ml-v2)"
      ]
     },
     "execution_count": 3,
     "metadata": {},
     "output_type": "execute_result"
    }
   ],
   "source": [
    "ml_client = MLClient.from_config(\n",
    "    credential=DefaultAzureCredential())\n",
    "ml_client"
   ]
  },
  {
   "cell_type": "code",
   "execution_count": 16,
   "metadata": {},
   "outputs": [
    {
     "name": "stdout",
     "output_type": "stream",
     "text": [
      "Endpoint dbcc-batch already exists\n",
      "BatchEndpoint({'scoring_uri': 'https://dbcc-batch.eastus2.inference.ml.azure.com/jobs', 'swagger_uri': None, 'provisioning_state': 'Succeeded', 'name': 'dbcc-batch', 'description': 'DBCC Batch end-point', 'tags': {}, 'properties': {'BatchEndpointCreationApiVersion': '2022-05-01', 'azureml.onlineendpointid': '/subscriptions/fadb1e32-9c96-4180-be9d-1811f4687cca/resourcegroups/paolt-ml-v2/providers/microsoft.machinelearningservices/workspaces/paolt-ml-v2/onlineendpoints/dbcc-batch', 'AzureAsyncOperationUri': 'https://management.azure.com/subscriptions/fadb1e32-9c96-4180-be9d-1811f4687cca/providers/Microsoft.MachineLearningServices/locations/eastus2/mfeOperationsStatus/be:b680d2d4-3293-461f-97a2-5e69d0650e8f:d972e336-a754-411c-9a49-ba2546f3bb6d?api-version=2022-05-01'}, 'id': '/subscriptions/fadb1e32-9c96-4180-be9d-1811f4687cca/resourceGroups/paolt-ml-v2/providers/Microsoft.MachineLearningServices/workspaces/paolt-ml-v2/batchEndpoints/dbcc-batch', 'Resource__source_path': None, 'base_path': '/mnt/batch/tasks/shared/LS_root/mounts/clusters/paolt-dev-cpu-vm/code/Users/paolt/databook_v1/mlops', 'creation_context': None, 'serialize': <msrest.serialization.Serializer object at 0x7f8b6130d370>, 'auth_mode': 'aad_token', 'location': 'eastus2', 'defaults': <azure.ai.ml._restclient.v2022_05_01.models._models_py3.BatchEndpointDefaults object at 0x7f8b60a14ac0>})\n"
     ]
    }
   ],
   "source": [
    "try:\n",
    "    end_point = ml_client.batch_endpoints.get(name=batch_endpoint_name)\n",
    "    print(f\"Endpoint {batch_endpoint_name} already exists\")\n",
    "    print(end_point)\n",
    "except:\n",
    "    endpoint = BatchEndpoint(\n",
    "        name=batch_endpoint_name,\n",
    "        description=\"DBCC Batch end-point\",\n",
    "    )\n",
    "    ml_client.begin_create_or_update(endpoint)"
   ]
  },
  {
   "cell_type": "code",
   "execution_count": 13,
   "metadata": {},
   "outputs": [
    {
     "data": {
      "text/plain": [
       "Environment({'is_anonymous': False, 'auto_increment_version': False, 'name': 'DataBook-Env', 'description': None, 'tags': {}, 'properties': {}, 'id': '/subscriptions/fadb1e32-9c96-4180-be9d-1811f4687cca/resourceGroups/paolt-ml-v2/providers/Microsoft.MachineLearningServices/workspaces/paolt-ml-v2/environments/DataBook-Env/versions/2', 'Resource__source_path': None, 'base_path': '/mnt/batch/tasks/shared/LS_root/mounts/clusters/paolt-dev-cpu-vm/code/Users/paolt/databook_v1/mlops', 'creation_context': <azure.ai.ml._restclient.v2022_05_01.models._models_py3.SystemData object at 0x7f8b6130daf0>, 'serialize': <msrest.serialization.Serializer object at 0x7f8b6cb3b790>, 'version': '2', 'latest_version': None, 'conda_file': {'name': 'project_environment', 'dependencies': ['python=3.8.13', {'pip': ['azureml-defaults', 'https://paoltmlv28403383412.blob.core.windows.net/azureml/Environment/azureml-private-packages/databook-0.1-py3-none-any.whl']}], 'channels': ['anaconda', 'conda-forge']}, 'image': 'mcr.microsoft.com/azureml/openmpi4.1.0-ubuntu20.04:20220616.v1', 'build': None, 'inference_config': None, 'os_type': 'Linux', 'arm_type': 'environment_version', 'conda_file_path': None, 'path': None, 'upload_hash': None, 'translated_conda_file': None})"
      ]
     },
     "execution_count": 13,
     "metadata": {},
     "output_type": "execute_result"
    }
   ],
   "source": [
    "env = ml_client.environments.get(name=environment_name, version=environment_ver)\n",
    "env"
   ]
  },
  {
   "cell_type": "code",
   "execution_count": 14,
   "metadata": {},
   "outputs": [
    {
     "data": {
      "text/plain": [
       "ComputeInstance({'state': 'Stopped', 'last_operation': {'operation_name': 'Stop', 'operation_time': '2022-08-30T11:44:26.487Z', 'operation_status': 'Succeeded'}, 'services': [{'display_name': 'Jupyter', 'endpoint_uri': 'https://paolt-run-cpu-vm.eastus2.instances.azureml.ms/tree/'}, {'display_name': 'Jupyter Lab', 'endpoint_uri': 'https://paolt-run-cpu-vm.eastus2.instances.azureml.ms/lab'}], 'type': 'computeinstance', 'created_on': None, 'provisioning_state': 'Succeeded', 'provisioning_errors': None, 'name': 'paolt-run-cpu-vm', 'description': None, 'tags': {}, 'properties': {}, 'id': '/subscriptions/fadb1e32-9c96-4180-be9d-1811f4687cca/resourceGroups/paolt-ml-v2/providers/Microsoft.MachineLearningServices/workspaces/paolt-ml-v2/computes/paolt-run-cpu-vm', 'Resource__source_path': None, 'base_path': '/mnt/batch/tasks/shared/LS_root/mounts/clusters/paolt-dev-cpu-vm/code/Users/paolt/databook_v1/mlops', 'creation_context': None, 'serialize': <msrest.serialization.Serializer object at 0x7f8b612b2df0>, 'resource_id': None, 'location': 'eastus2', 'size': 'STANDARD_DS12_V2', 'ssh_public_access_enabled': False, 'create_on_behalf_of': None, 'network_settings': <azure.ai.ml.entities._compute.compute.NetworkSettings object at 0x7f8b6131acd0>, 'ssh_settings': <azure.ai.ml.entities._compute.compute_instance.ComputeInstanceSshSettings object at 0x7f8b6d0cf820>, 'schedules': None})"
      ]
     },
     "execution_count": 14,
     "metadata": {},
     "output_type": "execute_result"
    }
   ],
   "source": [
    "compute = ml_client.compute.get(compute_name)\n",
    "compute"
   ]
  },
  {
   "cell_type": "code",
   "execution_count": 22,
   "metadata": {},
   "outputs": [
    {
     "data": {
      "text/plain": [
       "Model({'job_name': None, 'is_anonymous': False, 'auto_increment_version': False, 'name': 'dbcc', 'description': None, 'tags': {}, 'properties': {}, 'id': '/subscriptions/fadb1e32-9c96-4180-be9d-1811f4687cca/resourceGroups/paolt-ml-v2/providers/Microsoft.MachineLearningServices/workspaces/paolt-ml-v2/models/dbcc/versions/1', 'Resource__source_path': None, 'base_path': '/mnt/batch/tasks/shared/LS_root/mounts/clusters/paolt-dev-cpu-vm/code/Users/paolt/databook_v1/mlops', 'creation_context': <azure.ai.ml._restclient.v2022_05_01.models._models_py3.SystemData object at 0x7f8b6135b7f0>, 'serialize': <msrest.serialization.Serializer object at 0x7f8b6cb2f490>, 'version': '1', 'latest_version': None, 'path': 'azureml://subscriptions/fadb1e32-9c96-4180-be9d-1811f4687cca/resourceGroups/paolt-ml-v2/workspaces/paolt-ml-v2/datastores/workspaceblobstore/paths/WebUpload/220907153330-3997206794/model.pkl', 'utc_time_created': None, 'flavors': None, 'arm_type': 'model_version', 'type': 'custom_model'})"
      ]
     },
     "execution_count": 22,
     "metadata": {},
     "output_type": "execute_result"
    }
   ],
   "source": [
    "model = ml_client.models.get(name=model_name, version=model_version)\n",
    "model"
   ]
  },
  {
   "cell_type": "code",
   "execution_count": 23,
   "metadata": {},
   "outputs": [],
   "source": [
    "# create a batch deployment\n",
    "deployment = BatchDeployment(\n",
    "    name=\"DBC batch endpoint deployment\",\n",
    "    endpoint_name=batch_endpoint_name,\n",
    "    model=model,\n",
    "    code_path=\"./scripts\",\n",
    "    scoring_script=\"inference-script.py\",\n",
    "    environment=env,\n",
    "    compute=compute_name,\n",
    "    instance_count=2,\n",
    "    max_concurrency_per_instance=2,\n",
    "    mini_batch_size=10,\n",
    "    output_action=BatchDeploymentOutputAction.APPEND_ROW,\n",
    "    output_file_name=\"predictions.csv\",\n",
    "    retry_settings=BatchRetrySettings(max_retries=3, timeout=30),\n",
    "    logging_level=\"info\",\n",
    ")"
   ]
  },
  {
   "cell_type": "code",
   "execution_count": 24,
   "metadata": {},
   "outputs": [
    {
     "ename": "ResourceExistsError",
     "evalue": "(UserError) Environment DataBook-Env with version 2 is already registered and cannot be changed.\nCode: UserError\nMessage: Environment DataBook-Env with version 2 is already registered and cannot be changed.",
     "output_type": "error",
     "traceback": [
      "\u001b[0;31m---------------------------------------------------------------------------\u001b[0m",
      "\u001b[0;31mResourceExistsError\u001b[0m                       Traceback (most recent call last)",
      "\u001b[1;32m/home/azureuser/cloudfiles/code/Users/paolt/databook_v1/mlops/create-batch-endpoint.ipynb Cell 11\u001b[0m in \u001b[0;36m<cell line: 1>\u001b[0;34m()\u001b[0m\n\u001b[0;32m----> <a href='vscode-notebook-cell://amlext%2B2f737562736372697074696f6e732f66616462316533322d396339362d343138302d626539642d3138313166343638376363612f7265736f7572636547726f7570732f70616f6c742d6d6c2d76322f70726f7669646572732f4d6963726f736f66742e4d616368696e654c6561726e696e6753657276696365732f776f726b7370616365732f70616f6c742d6d6c2d76322f636f6d70757465732f70616f6c742d6465762d6370752d766d/home/azureuser/cloudfiles/code/Users/paolt/databook_v1/mlops/create-batch-endpoint.ipynb#X14sdnNjb2RlLXJlbW90ZQ%3D%3D?line=0'>1</a>\u001b[0m ml_client\u001b[39m.\u001b[39;49mbegin_create_or_update(deployment)\n",
      "File \u001b[0;32m/anaconda/envs/azureml_py38/lib/python3.8/site-packages/azure/ai/ml/_ml_client.py:702\u001b[0m, in \u001b[0;36mMLClient.begin_create_or_update\u001b[0;34m(self, entity, **kwargs)\u001b[0m\n\u001b[1;32m    671\u001b[0m \u001b[39mdef\u001b[39;00m \u001b[39mbegin_create_or_update\u001b[39m(\n\u001b[1;32m    672\u001b[0m     \u001b[39mself\u001b[39m,\n\u001b[1;32m    673\u001b[0m     entity: Union[\n\u001b[0;32m   (...)\u001b[0m\n\u001b[1;32m    682\u001b[0m     \u001b[39m*\u001b[39m\u001b[39m*\u001b[39mkwargs,\n\u001b[1;32m    683\u001b[0m ) \u001b[39m-\u001b[39m\u001b[39m>\u001b[39m LROPoller:\n\u001b[1;32m    684\u001b[0m     \u001b[39m\"\"\"Creates or updates an Azure ML resource asynchronously.\u001b[39;00m\n\u001b[1;32m    685\u001b[0m \n\u001b[1;32m    686\u001b[0m \u001b[39m    :param entity: The resource to create or update.\u001b[39;00m\n\u001b[0;32m   (...)\u001b[0m\n\u001b[1;32m    699\u001b[0m \u001b[39m        azure.ai.ml.entities.BatchEndpoint]]\u001b[39;00m\n\u001b[1;32m    700\u001b[0m \u001b[39m    \"\"\"\u001b[39;00m\n\u001b[0;32m--> 702\u001b[0m     \u001b[39mreturn\u001b[39;00m _begin_create_or_update(entity, \u001b[39mself\u001b[39;49m\u001b[39m.\u001b[39;49m_operation_container\u001b[39m.\u001b[39;49mall_operations, \u001b[39m*\u001b[39;49m\u001b[39m*\u001b[39;49mkwargs)\n",
      "File \u001b[0;32m/anaconda/envs/azureml_py38/lib/python3.8/functools.py:875\u001b[0m, in \u001b[0;36msingledispatch.<locals>.wrapper\u001b[0;34m(*args, **kw)\u001b[0m\n\u001b[1;32m    871\u001b[0m \u001b[39mif\u001b[39;00m \u001b[39mnot\u001b[39;00m args:\n\u001b[1;32m    872\u001b[0m     \u001b[39mraise\u001b[39;00m \u001b[39mTypeError\u001b[39;00m(\u001b[39mf\u001b[39m\u001b[39m'\u001b[39m\u001b[39m{\u001b[39;00mfuncname\u001b[39m}\u001b[39;00m\u001b[39m requires at least \u001b[39m\u001b[39m'\u001b[39m\n\u001b[1;32m    873\u001b[0m                     \u001b[39m'\u001b[39m\u001b[39m1 positional argument\u001b[39m\u001b[39m'\u001b[39m)\n\u001b[0;32m--> 875\u001b[0m \u001b[39mreturn\u001b[39;00m dispatch(args[\u001b[39m0\u001b[39;49m]\u001b[39m.\u001b[39;49m\u001b[39m__class__\u001b[39;49m)(\u001b[39m*\u001b[39;49margs, \u001b[39m*\u001b[39;49m\u001b[39m*\u001b[39;49mkw)\n",
      "File \u001b[0;32m/anaconda/envs/azureml_py38/lib/python3.8/site-packages/azure/ai/ml/_ml_client.py:790\u001b[0m, in \u001b[0;36m_\u001b[0;34m(entity, operations, *args, **kwargs)\u001b[0m\n\u001b[1;32m    787\u001b[0m \u001b[39m@_begin_create_or_update\u001b[39m\u001b[39m.\u001b[39mregister(BatchDeployment)\n\u001b[1;32m    788\u001b[0m \u001b[39mdef\u001b[39;00m \u001b[39m_\u001b[39m(entity: BatchDeployment, operations, \u001b[39m*\u001b[39margs, \u001b[39m*\u001b[39m\u001b[39m*\u001b[39mkwargs):\n\u001b[1;32m    789\u001b[0m     module_logger\u001b[39m.\u001b[39mdebug(\u001b[39m\"\u001b[39m\u001b[39mCreating or updating batch_deployments\u001b[39m\u001b[39m\"\u001b[39m)\n\u001b[0;32m--> 790\u001b[0m     \u001b[39mreturn\u001b[39;00m operations[AzureMLResourceType\u001b[39m.\u001b[39;49mBATCH_DEPLOYMENT]\u001b[39m.\u001b[39;49mbegin_create_or_update(entity, \u001b[39m*\u001b[39;49m\u001b[39m*\u001b[39;49mkwargs)\n",
      "File \u001b[0;32m/anaconda/envs/azureml_py38/lib/python3.8/site-packages/azure/ai/ml/_telemetry/activity.py:258\u001b[0m, in \u001b[0;36mmonitor_with_activity.<locals>.monitor.<locals>.wrapper\u001b[0;34m(*args, **kwargs)\u001b[0m\n\u001b[1;32m    255\u001b[0m \u001b[39m@functools\u001b[39m\u001b[39m.\u001b[39mwraps(f)\n\u001b[1;32m    256\u001b[0m \u001b[39mdef\u001b[39;00m \u001b[39mwrapper\u001b[39m(\u001b[39m*\u001b[39margs, \u001b[39m*\u001b[39m\u001b[39m*\u001b[39mkwargs):\n\u001b[1;32m    257\u001b[0m     \u001b[39mwith\u001b[39;00m log_activity(logger, activity_name \u001b[39mor\u001b[39;00m f\u001b[39m.\u001b[39m\u001b[39m__name__\u001b[39m, activity_type, custom_dimensions):\n\u001b[0;32m--> 258\u001b[0m         \u001b[39mreturn\u001b[39;00m f(\u001b[39m*\u001b[39;49margs, \u001b[39m*\u001b[39;49m\u001b[39m*\u001b[39;49mkwargs)\n",
      "File \u001b[0;32m/anaconda/envs/azureml_py38/lib/python3.8/site-packages/azure/ai/ml/operations/_batch_deployment_operations.py:81\u001b[0m, in \u001b[0;36mBatchDeploymentOperations.begin_create_or_update\u001b[0;34m(self, deployment, **kwargs)\u001b[0m\n\u001b[1;32m     72\u001b[0m \u001b[39mself\u001b[39m\u001b[39m.\u001b[39m_batch_endpoint_operations\u001b[39m.\u001b[39mget(\n\u001b[1;32m     73\u001b[0m     endpoint_name\u001b[39m=\u001b[39mdeployment\u001b[39m.\u001b[39mendpoint_name,\n\u001b[1;32m     74\u001b[0m     resource_group_name\u001b[39m=\u001b[39m\u001b[39mself\u001b[39m\u001b[39m.\u001b[39m_resource_group_name,\n\u001b[1;32m     75\u001b[0m     workspace_name\u001b[39m=\u001b[39m\u001b[39mself\u001b[39m\u001b[39m.\u001b[39m_workspace_name,\n\u001b[1;32m     76\u001b[0m )\n\u001b[1;32m     77\u001b[0m orchestrators \u001b[39m=\u001b[39m OperationOrchestrator(\n\u001b[1;32m     78\u001b[0m     operation_container\u001b[39m=\u001b[39m\u001b[39mself\u001b[39m\u001b[39m.\u001b[39m_all_operations,\n\u001b[1;32m     79\u001b[0m     operation_scope\u001b[39m=\u001b[39m\u001b[39mself\u001b[39m\u001b[39m.\u001b[39m_operation_scope,\n\u001b[1;32m     80\u001b[0m )\n\u001b[0;32m---> 81\u001b[0m upload_dependencies(deployment, orchestrators)\n\u001b[1;32m     83\u001b[0m \u001b[39mtry\u001b[39;00m:\n\u001b[1;32m     84\u001b[0m     location \u001b[39m=\u001b[39m \u001b[39mself\u001b[39m\u001b[39m.\u001b[39m_get_workspace_location()\n",
      "File \u001b[0;32m/anaconda/envs/azureml_py38/lib/python3.8/site-packages/azure/ai/ml/_utils/_endpoint_utils.py:153\u001b[0m, in \u001b[0;36mupload_dependencies\u001b[0;34m(deployment, orchestrators)\u001b[0m\n\u001b[1;32m    146\u001b[0m     deployment\u001b[39m.\u001b[39mcode_configuration\u001b[39m.\u001b[39mcode \u001b[39m=\u001b[39m orchestrators\u001b[39m.\u001b[39mget_asset_arm_id(\n\u001b[1;32m    147\u001b[0m         Code(base_path\u001b[39m=\u001b[39mdeployment\u001b[39m.\u001b[39m_base_path, path\u001b[39m=\u001b[39mdeployment\u001b[39m.\u001b[39mcode_configuration\u001b[39m.\u001b[39mcode),\n\u001b[1;32m    148\u001b[0m         azureml_type\u001b[39m=\u001b[39mAzureMLResourceType\u001b[39m.\u001b[39mCODE,\n\u001b[1;32m    149\u001b[0m     )\n\u001b[1;32m    151\u001b[0m \u001b[39mif\u001b[39;00m \u001b[39mnot\u001b[39;00m is_registry_id_for_resource(deployment\u001b[39m.\u001b[39menvironment):\n\u001b[1;32m    152\u001b[0m     deployment\u001b[39m.\u001b[39menvironment \u001b[39m=\u001b[39m (\n\u001b[0;32m--> 153\u001b[0m         orchestrators\u001b[39m.\u001b[39;49mget_asset_arm_id(deployment\u001b[39m.\u001b[39;49menvironment, azureml_type\u001b[39m=\u001b[39;49mAzureMLResourceType\u001b[39m.\u001b[39;49mENVIRONMENT)\n\u001b[1;32m    154\u001b[0m         \u001b[39mif\u001b[39;00m deployment\u001b[39m.\u001b[39menvironment\n\u001b[1;32m    155\u001b[0m         \u001b[39melse\u001b[39;00m \u001b[39mNone\u001b[39;00m\n\u001b[1;32m    156\u001b[0m     )\n\u001b[1;32m    157\u001b[0m \u001b[39mif\u001b[39;00m \u001b[39mnot\u001b[39;00m is_registry_id_for_resource(deployment\u001b[39m.\u001b[39mmodel):\n\u001b[1;32m    158\u001b[0m     deployment\u001b[39m.\u001b[39mmodel \u001b[39m=\u001b[39m (\n\u001b[1;32m    159\u001b[0m         orchestrators\u001b[39m.\u001b[39mget_asset_arm_id(deployment\u001b[39m.\u001b[39mmodel, azureml_type\u001b[39m=\u001b[39mAzureMLResourceType\u001b[39m.\u001b[39mMODEL)\n\u001b[1;32m    160\u001b[0m         \u001b[39mif\u001b[39;00m deployment\u001b[39m.\u001b[39mmodel\n\u001b[1;32m    161\u001b[0m         \u001b[39melse\u001b[39;00m \u001b[39mNone\u001b[39;00m\n\u001b[1;32m    162\u001b[0m     )\n",
      "File \u001b[0;32m/anaconda/envs/azureml_py38/lib/python3.8/site-packages/azure/ai/ml/operations/_operation_orchestrator.py:187\u001b[0m, in \u001b[0;36mOperationOrchestrator.get_asset_arm_id\u001b[0;34m(self, asset, azureml_type, register_asset, sub_workspace_resource)\u001b[0m\n\u001b[1;32m    185\u001b[0m     result \u001b[39m=\u001b[39m \u001b[39mself\u001b[39m\u001b[39m.\u001b[39m_get_code_asset_arm_id(asset, register_asset\u001b[39m=\u001b[39mregister_asset)\n\u001b[1;32m    186\u001b[0m \u001b[39melif\u001b[39;00m azureml_type \u001b[39m==\u001b[39m AzureMLResourceType\u001b[39m.\u001b[39mENVIRONMENT \u001b[39mand\u001b[39;00m \u001b[39misinstance\u001b[39m(asset, Environment):\n\u001b[0;32m--> 187\u001b[0m     result \u001b[39m=\u001b[39m \u001b[39mself\u001b[39;49m\u001b[39m.\u001b[39;49m_get_environment_arm_id(asset, register_asset\u001b[39m=\u001b[39;49mregister_asset)\n\u001b[1;32m    188\u001b[0m \u001b[39melif\u001b[39;00m azureml_type \u001b[39m==\u001b[39m AzureMLResourceType\u001b[39m.\u001b[39mMODEL \u001b[39mand\u001b[39;00m \u001b[39misinstance\u001b[39m(asset, Model):\n\u001b[1;32m    189\u001b[0m     result \u001b[39m=\u001b[39m \u001b[39mself\u001b[39m\u001b[39m.\u001b[39m_get_model_arm_id(asset, register_asset\u001b[39m=\u001b[39mregister_asset)\n",
      "File \u001b[0;32m/anaconda/envs/azureml_py38/lib/python3.8/site-packages/azure/ai/ml/operations/_operation_orchestrator.py:246\u001b[0m, in \u001b[0;36mOperationOrchestrator._get_environment_arm_id\u001b[0;34m(self, environment, register_asset)\u001b[0m\n\u001b[1;32m    244\u001b[0m \u001b[39mdef\u001b[39;00m \u001b[39m_get_environment_arm_id\u001b[39m(\u001b[39mself\u001b[39m, environment: Environment, register_asset: \u001b[39mbool\u001b[39m \u001b[39m=\u001b[39m \u001b[39mTrue\u001b[39;00m) \u001b[39m-\u001b[39m\u001b[39m>\u001b[39m Union[\u001b[39mstr\u001b[39m, Environment]:\n\u001b[1;32m    245\u001b[0m     \u001b[39mif\u001b[39;00m register_asset:\n\u001b[0;32m--> 246\u001b[0m         env_response \u001b[39m=\u001b[39m \u001b[39mself\u001b[39;49m\u001b[39m.\u001b[39;49m_environments\u001b[39m.\u001b[39;49mcreate_or_update(environment)\n\u001b[1;32m    247\u001b[0m         \u001b[39mreturn\u001b[39;00m env_response\u001b[39m.\u001b[39mid\n\u001b[1;32m    248\u001b[0m     environment \u001b[39m=\u001b[39m _check_and_upload_env_build_context(environment\u001b[39m=\u001b[39menvironment, operations\u001b[39m=\u001b[39m\u001b[39mself\u001b[39m\u001b[39m.\u001b[39m_environments)\n",
      "File \u001b[0;32m/anaconda/envs/azureml_py38/lib/python3.8/site-packages/azure/ai/ml/_telemetry/activity.py:258\u001b[0m, in \u001b[0;36mmonitor_with_activity.<locals>.monitor.<locals>.wrapper\u001b[0;34m(*args, **kwargs)\u001b[0m\n\u001b[1;32m    255\u001b[0m \u001b[39m@functools\u001b[39m\u001b[39m.\u001b[39mwraps(f)\n\u001b[1;32m    256\u001b[0m \u001b[39mdef\u001b[39;00m \u001b[39mwrapper\u001b[39m(\u001b[39m*\u001b[39margs, \u001b[39m*\u001b[39m\u001b[39m*\u001b[39mkwargs):\n\u001b[1;32m    257\u001b[0m     \u001b[39mwith\u001b[39;00m log_activity(logger, activity_name \u001b[39mor\u001b[39;00m f\u001b[39m.\u001b[39m\u001b[39m__name__\u001b[39m, activity_type, custom_dimensions):\n\u001b[0;32m--> 258\u001b[0m         \u001b[39mreturn\u001b[39;00m f(\u001b[39m*\u001b[39;49margs, \u001b[39m*\u001b[39;49m\u001b[39m*\u001b[39;49mkwargs)\n",
      "File \u001b[0;32m/anaconda/envs/azureml_py38/lib/python3.8/site-packages/azure/ai/ml/operations/_environment_operations.py:122\u001b[0m, in \u001b[0;36mEnvironmentOperations.create_or_update\u001b[0;34m(self, environment)\u001b[0m\n\u001b[1;32m    102\u001b[0m     env_rest_obj \u001b[39m=\u001b[39m _create_or_update_autoincrement(\n\u001b[1;32m    103\u001b[0m         name\u001b[39m=\u001b[39menvironment\u001b[39m.\u001b[39mname,\n\u001b[1;32m    104\u001b[0m         body\u001b[39m=\u001b[39menv_version_resource,\n\u001b[0;32m   (...)\u001b[0m\n\u001b[1;32m    109\u001b[0m         \u001b[39m*\u001b[39m\u001b[39m*\u001b[39m\u001b[39mself\u001b[39m\u001b[39m.\u001b[39m_kwargs,\n\u001b[1;32m    110\u001b[0m     )\n\u001b[1;32m    111\u001b[0m \u001b[39melse\u001b[39;00m:\n\u001b[1;32m    112\u001b[0m     env_rest_obj \u001b[39m=\u001b[39m (\n\u001b[1;32m    113\u001b[0m         \u001b[39mself\u001b[39m\u001b[39m.\u001b[39m_version_operations\u001b[39m.\u001b[39mbegin_create_or_update(\n\u001b[1;32m    114\u001b[0m             name\u001b[39m=\u001b[39menvironment\u001b[39m.\u001b[39mname,\n\u001b[1;32m    115\u001b[0m             version\u001b[39m=\u001b[39menvironment\u001b[39m.\u001b[39mversion,\n\u001b[1;32m    116\u001b[0m             registry_name\u001b[39m=\u001b[39m\u001b[39mself\u001b[39m\u001b[39m.\u001b[39m_registry_name,\n\u001b[1;32m    117\u001b[0m             body\u001b[39m=\u001b[39menv_version_resource,\n\u001b[1;32m    118\u001b[0m             \u001b[39m*\u001b[39m\u001b[39m*\u001b[39m\u001b[39mself\u001b[39m\u001b[39m.\u001b[39m_scope_kwargs,\n\u001b[1;32m    119\u001b[0m             \u001b[39m*\u001b[39m\u001b[39m*\u001b[39m\u001b[39mself\u001b[39m\u001b[39m.\u001b[39m_kwargs,\n\u001b[1;32m    120\u001b[0m         )\u001b[39m.\u001b[39mresult()\n\u001b[1;32m    121\u001b[0m         \u001b[39mif\u001b[39;00m \u001b[39mself\u001b[39m\u001b[39m.\u001b[39m_registry_name\n\u001b[0;32m--> 122\u001b[0m         \u001b[39melse\u001b[39;00m \u001b[39mself\u001b[39;49m\u001b[39m.\u001b[39;49m_version_operations\u001b[39m.\u001b[39;49mcreate_or_update(\n\u001b[1;32m    123\u001b[0m             name\u001b[39m=\u001b[39;49menvironment\u001b[39m.\u001b[39;49mname,\n\u001b[1;32m    124\u001b[0m             version\u001b[39m=\u001b[39;49menvironment\u001b[39m.\u001b[39;49mversion,\n\u001b[1;32m    125\u001b[0m             workspace_name\u001b[39m=\u001b[39;49m\u001b[39mself\u001b[39;49m\u001b[39m.\u001b[39;49m_workspace_name,\n\u001b[1;32m    126\u001b[0m             body\u001b[39m=\u001b[39;49menv_version_resource,\n\u001b[1;32m    127\u001b[0m             \u001b[39m*\u001b[39;49m\u001b[39m*\u001b[39;49m\u001b[39mself\u001b[39;49m\u001b[39m.\u001b[39;49m_scope_kwargs,\n\u001b[1;32m    128\u001b[0m             \u001b[39m*\u001b[39;49m\u001b[39m*\u001b[39;49m\u001b[39mself\u001b[39;49m\u001b[39m.\u001b[39;49m_kwargs,\n\u001b[1;32m    129\u001b[0m         )\n\u001b[1;32m    130\u001b[0m     )\n\u001b[1;32m    132\u001b[0m \u001b[39mif\u001b[39;00m \u001b[39mnot\u001b[39;00m env_rest_obj \u001b[39mand\u001b[39;00m \u001b[39mself\u001b[39m\u001b[39m.\u001b[39m_registry_name:\n\u001b[1;32m    133\u001b[0m     env_rest_obj \u001b[39m=\u001b[39m \u001b[39mself\u001b[39m\u001b[39m.\u001b[39m_get(name\u001b[39m=\u001b[39menvironment\u001b[39m.\u001b[39mname, version\u001b[39m=\u001b[39menvironment\u001b[39m.\u001b[39mversion)\n",
      "File \u001b[0;32m/anaconda/envs/azureml_py38/lib/python3.8/site-packages/azure/core/tracing/decorator.py:83\u001b[0m, in \u001b[0;36mdistributed_trace.<locals>.decorator.<locals>.wrapper_use_tracer\u001b[0;34m(*args, **kwargs)\u001b[0m\n\u001b[1;32m     81\u001b[0m span_impl_type \u001b[39m=\u001b[39m settings\u001b[39m.\u001b[39mtracing_implementation()\n\u001b[1;32m     82\u001b[0m \u001b[39mif\u001b[39;00m span_impl_type \u001b[39mis\u001b[39;00m \u001b[39mNone\u001b[39;00m:\n\u001b[0;32m---> 83\u001b[0m     \u001b[39mreturn\u001b[39;00m func(\u001b[39m*\u001b[39;49margs, \u001b[39m*\u001b[39;49m\u001b[39m*\u001b[39;49mkwargs)\n\u001b[1;32m     85\u001b[0m \u001b[39m# Merge span is parameter is set, but only if no explicit parent are passed\u001b[39;00m\n\u001b[1;32m     86\u001b[0m \u001b[39mif\u001b[39;00m merge_span \u001b[39mand\u001b[39;00m \u001b[39mnot\u001b[39;00m passed_in_parent:\n",
      "File \u001b[0;32m/anaconda/envs/azureml_py38/lib/python3.8/site-packages/azure/ai/ml/_restclient/v2022_05_01/operations/_environment_versions_operations.py:514\u001b[0m, in \u001b[0;36mEnvironmentVersionsOperations.create_or_update\u001b[0;34m(self, resource_group_name, workspace_name, name, version, body, **kwargs)\u001b[0m\n\u001b[1;32m    511\u001b[0m response \u001b[39m=\u001b[39m pipeline_response\u001b[39m.\u001b[39mhttp_response\n\u001b[1;32m    513\u001b[0m \u001b[39mif\u001b[39;00m response\u001b[39m.\u001b[39mstatus_code \u001b[39mnot\u001b[39;00m \u001b[39min\u001b[39;00m [\u001b[39m200\u001b[39m, \u001b[39m201\u001b[39m]:\n\u001b[0;32m--> 514\u001b[0m     map_error(status_code\u001b[39m=\u001b[39;49mresponse\u001b[39m.\u001b[39;49mstatus_code, response\u001b[39m=\u001b[39;49mresponse, error_map\u001b[39m=\u001b[39;49merror_map)\n\u001b[1;32m    515\u001b[0m     error \u001b[39m=\u001b[39m \u001b[39mself\u001b[39m\u001b[39m.\u001b[39m_deserialize\u001b[39m.\u001b[39mfailsafe_deserialize(_models\u001b[39m.\u001b[39mErrorResponse, pipeline_response)\n\u001b[1;32m    516\u001b[0m     \u001b[39mraise\u001b[39;00m HttpResponseError(response\u001b[39m=\u001b[39mresponse, model\u001b[39m=\u001b[39merror, error_format\u001b[39m=\u001b[39mARMErrorFormat)\n",
      "File \u001b[0;32m/anaconda/envs/azureml_py38/lib/python3.8/site-packages/azure/core/exceptions.py:105\u001b[0m, in \u001b[0;36mmap_error\u001b[0;34m(status_code, response, error_map)\u001b[0m\n\u001b[1;32m    103\u001b[0m     \u001b[39mreturn\u001b[39;00m\n\u001b[1;32m    104\u001b[0m error \u001b[39m=\u001b[39m error_type(response\u001b[39m=\u001b[39mresponse)\n\u001b[0;32m--> 105\u001b[0m \u001b[39mraise\u001b[39;00m error\n",
      "\u001b[0;31mResourceExistsError\u001b[0m: (UserError) Environment DataBook-Env with version 2 is already registered and cannot be changed.\nCode: UserError\nMessage: Environment DataBook-Env with version 2 is already registered and cannot be changed."
     ]
    }
   ],
   "source": [
    "ml_client.begin_create_or_update(deployment)"
   ]
  }
 ],
 "metadata": {
  "kernelspec": {
   "display_name": "Python 3.8.13 ('azureml_py38')",
   "language": "python",
   "name": "python3"
  },
  "language_info": {
   "codemirror_mode": {
    "name": "ipython",
    "version": 3
   },
   "file_extension": ".py",
   "mimetype": "text/x-python",
   "name": "python",
   "nbconvert_exporter": "python",
   "pygments_lexer": "ipython3",
   "version": "3.8.13"
  },
  "orig_nbformat": 4,
  "vscode": {
   "interpreter": {
    "hash": "6d65a8c07f5b6469e0fc613f182488c0dccce05038bbda39e5ac9075c0454d11"
   }
  }
 },
 "nbformat": 4,
 "nbformat_minor": 2
}
