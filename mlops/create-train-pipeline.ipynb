{
  "cells": [
    {
      "cell_type": "markdown",
      "metadata": {},
      "source": [
        "# Create & Run AML Train Pieline"
      ]
    },
    {
      "cell_type": "code",
      "execution_count": 12,
      "metadata": {},
      "outputs": [],
      "source": [
        "from azure.ai.ml import command, dsl, Input, Output, MLClient\n",
        "from azure.identity import DefaultAzureCredential"
      ]
    },
    {
      "cell_type": "code",
      "execution_count": 5,
      "metadata": {},
      "outputs": [],
      "source": [
        "cpu_compute_target = \"paolt-run-cpu-vm\"\n",
        "environment_name = \"DataBook-Env\"\n",
        "environment_ver = \"2\""
      ]
    },
    {
      "cell_type": "code",
      "execution_count": 3,
      "metadata": {},
      "outputs": [],
      "source": [
        "data_prep_component = command(\n",
        "    name=\"data_prep_dbcc\",\n",
        "    display_name=\"Data preparation for training\",\n",
        "    inputs={\"data\": Input(type=\"uri_file\", mode=\"ro_mount\"),\n",
        "        \"ranges\": Input(type=\"uri_file\", mode=\"ro_mount\"),\n",
        "        \"test_train_ratio\": Input(type=\"number\")},\n",
        "    outputs={\"train_data\" : Output(type=\"uri_folder\", mode=\"rw_mount\"),\n",
        "        \"test_data\" : Output(type=\"uri_folder\", mode=\"rw_mount\")},\n",
        "    code=\"./scripts\",\n",
        "    command=\"\"\"python data-prep-stage-script.py \\\n",
        "            --data ${{inputs.data}} --ranges ${{inputs.ranges}} --test_train_ratio ${{inputs.test_train_ratio}} \\\n",
        "            --train_data ${{outputs.train_data}} --test_data ${{outputs.test_data}} \\\n",
        "            \"\"\",\n",
        "    environment=f\"{environment_name}:{environment_ver}\",\n",
        ")"
      ]
    },
    {
      "cell_type": "code",
      "execution_count": 21,
      "metadata": {},
      "outputs": [],
      "source": [
        "train_component = command(\n",
        "    name=\"train_dbcc\",\n",
        "    display_name=\"Train classifier\",\n",
        "    inputs={\"train_data\" : Input(type=\"uri_folder\", mode=\"ro_mount\"),\n",
        "        \"test_data\" : Input(type=\"uri_folder\", mode=\"ro_mount\")},\n",
        "    outputs={\"model_path\": Output(type=\"uri_folder\", mode=\"rw_mount\")},\n",
        "    code=\"./scripts\",\n",
        "    command=\"\"\"python train-stage-script.py \\\n",
        "            --train_data ${{inputs.train_data}} \\\n",
        "            --test_data ${{inputs.test_data}} \\\n",
        "            --model_path ${{outputs.model_path}}\n",
        "            \"\"\",\n",
        "    environment=f\"{environment_name}:{environment_ver}\",\n",
        ")"
      ]
    },
    {
      "cell_type": "code",
      "execution_count": 22,
      "metadata": {},
      "outputs": [],
      "source": [
        "@dsl.pipeline(\n",
        "    compute=cpu_compute_target,\n",
        "    description=\"DBCC data_perp-train pipeline\",\n",
        ")\n",
        "def dbcc_pipeline(\n",
        "    pipeline_job_data_input,\n",
        "    pipeline_job_ranges_input,\n",
        "    pipeline_job_test_train_ratio=0.25,\n",
        "):\n",
        "    # using data_prep_function like a python call with its own inputs\n",
        "    data_prep_job = data_prep_component(\n",
        "        data=pipeline_job_data_input,\n",
        "        ranges=pipeline_job_ranges_input,\n",
        "        test_train_ratio=pipeline_job_test_train_ratio,\n",
        "    )\n",
        "\n",
        "    # using train_func like a python call with its own inputs\n",
        "    train_job = train_component(\n",
        "        train_data=data_prep_job.outputs.train_data,\n",
        "        test_data=data_prep_job.outputs.test_data,\n",
        "    )\n",
        "\n",
        "    # a pipeline returns a dictionary of outputs\n",
        "    # keys will code for the pipeline output identifier\n",
        "    return {\n",
        "        \"pipeline_job_train_data\": data_prep_job.outputs.train_data,\n",
        "        \"pipeline_job_test_data\": data_prep_job.outputs.test_data,\n",
        "        \"pipeline_job_model\": train_job.outputs.model_path,\n",
        "    }"
      ]
    },
    {
      "cell_type": "code",
      "execution_count": 23,
      "metadata": {},
      "outputs": [
        {
          "data": {
            "text/html": [
              "<table style=\"width:100%\"><tr><th>Experiment</th><th>Name</th><th>Type</th><th>Status</th></tr><tr><td></td><td></td><td>pipeline</td><td></td></tr></table>"
            ],
            "text/plain": [
              "PipelineJob({'inputs': {'pipeline_job_data_input': <azure.ai.ml.entities._job.pipeline._io.PipelineInput object at 0x7ffad05adf10>, 'pipeline_job_ranges_input': <azure.ai.ml.entities._job.pipeline._io.PipelineInput object at 0x7ffad05add60>, 'pipeline_job_test_train_ratio': <azure.ai.ml.entities._job.pipeline._io.PipelineInput object at 0x7ffad05add30>}, 'outputs': {'pipeline_job_train_data': <azure.ai.ml.entities._job.pipeline._io.PipelineOutput object at 0x7ffad05add90>, 'pipeline_job_test_data': <azure.ai.ml.entities._job.pipeline._io.PipelineOutput object at 0x7ffad05ada90>, 'pipeline_job_model': <azure.ai.ml.entities._job.pipeline._io.PipelineOutput object at 0x7ffad05addc0>}, 'component': PipelineComponent({'auto_increment_version': True, 'source': 'DSL', 'is_anonymous': False, 'name': 'dbcc_pipeline', 'description': 'DBCC data_perp-train pipeline', 'tags': {}, 'properties': {}, 'id': None, 'Resource__source_path': None, 'base_path': None, 'creation_context': None, 'serialize': <msrest.serialization.Serializer object at 0x7ffad051b820>, 'version': None, 'latest_version': None, 'schema': None, 'type': 'pipeline', 'display_name': 'dbcc_pipeline', 'is_deterministic': True, 'inputs': {'pipeline_job_data_input': {'type': 'string', 'name': 'pipeline_job_data_input'}, 'pipeline_job_ranges_input': {'type': 'string', 'name': 'pipeline_job_ranges_input'}, 'pipeline_job_test_train_ratio': {'type': 'number', 'name': 'pipeline_job_test_train_ratio', 'default': 0.25}}, 'outputs': {'pipeline_job_train_data': <azure.ai.ml.entities._job.pipeline._io.PipelineOutput object at 0x7ffad10cce50>, 'pipeline_job_test_data': <azure.ai.ml.entities._job.pipeline._io.PipelineOutput object at 0x7ffad068df70>, 'pipeline_job_model': <azure.ai.ml.entities._job.pipeline._io.PipelineOutput object at 0x7ffad068dcd0>}, 'yaml_str': None, 'other_parameter': {}, 'func': <function [component] dbcc_pipeline at 0x7ffad03bf5e0>, 'jobs': OrderedDict([('data_prep_job', Command({'parameters': {}, 'init': False, 'type': 'command', 'status': None, 'log_files': None, 'name': 'data_prep_dbcc', 'description': None, 'tags': {}, 'properties': {}, 'id': None, 'Resource__source_path': None, 'base_path': None, 'creation_context': None, 'serialize': <msrest.serialization.Serializer object at 0x7ffad05015b0>, 'allowed_keys': {}, 'key_restriction': False, 'logger': <Logger attr_dict (WARNING)>, 'display_name': 'Data preparation for training', 'experiment_name': None, 'compute': None, 'services': None, 'job_inputs': {'data': <azure.ai.ml.entities._job.pipeline._io.PipelineInput object at 0x7ffad0501eb0>, 'ranges': <azure.ai.ml.entities._job.pipeline._io.PipelineInput object at 0x7ffad0501100>, 'test_train_ratio': <azure.ai.ml.entities._job.pipeline._io.PipelineInput object at 0x7ffad05012b0>}, 'job_outputs': {}, 'inputs': {'data': <azure.ai.ml.entities._job.pipeline._io.PipelineInputBase object at 0x7ffad0501fd0>, 'ranges': <azure.ai.ml.entities._job.pipeline._io.PipelineInputBase object at 0x7ffad0501a30>, 'test_train_ratio': <azure.ai.ml.entities._job.pipeline._io.PipelineInputBase object at 0x7ffad0501f10>}, 'outputs': {'train_data': <azure.ai.ml.entities._job.pipeline._io.PipelineOutputBase object at 0x7ffad0501220>, 'test_data': <azure.ai.ml.entities._job.pipeline._io.PipelineOutputBase object at 0x7ffad0501a60>}, 'component': CommandComponent({'auto_increment_version': False, 'source': 'BUILDER', 'is_anonymous': True, 'name': 'azureml_anonymous', 'description': None, 'tags': {}, 'properties': {}, 'id': '/subscriptions/fadb1e32-9c96-4180-be9d-1811f4687cca/resourceGroups/paolt-ml-v2/providers/Microsoft.MachineLearningServices/workspaces/paolt-ml-v2/components/azureml_anonymous/versions/c4487c3a-faa3-4128-adc2-c481b89d5e34', 'Resource__source_path': None, 'base_path': PosixPath('.'), 'creation_context': None, 'serialize': <msrest.serialization.Serializer object at 0x7ffad5ce2160>, 'command': 'python data-prep-stage-script.py             --data ${{inputs.data}} --ranges ${{inputs.ranges}} --test_train_ratio ${{inputs.test_train_ratio}}             --train_data ${{outputs.train_data}} --test_data ${{outputs.test_data}}             ', 'code': '/subscriptions/fadb1e32-9c96-4180-be9d-1811f4687cca/resourceGroups/paolt-ml-v2/providers/Microsoft.MachineLearningServices/workspaces/paolt-ml-v2/codes/873c4089-8b66-423b-b528-61bdbaeb134e/versions/1', 'environment_variables': None, 'environment': '/subscriptions/fadb1e32-9c96-4180-be9d-1811f4687cca/resourceGroups/paolt-ml-v2/providers/Microsoft.MachineLearningServices/workspaces/paolt-ml-v2/environments/DataBook-Env/versions/2', 'distribution': None, 'resources': None, 'version': '1cde2072-db3c-10b3-472a-97795e219387', 'latest_version': None, 'schema': None, 'type': 'command', 'display_name': 'Data preparation for training', 'is_deterministic': True, 'inputs': {'data': {'type': 'uri_file', 'mode': 'ro_mount'}, 'ranges': {'type': 'uri_file', 'mode': 'ro_mount'}, 'test_train_ratio': {'type': 'number'}}, 'outputs': {'train_data': {'type': 'uri_folder', 'mode': 'rw_mount'}, 'test_data': {'type': 'uri_folder', 'mode': 'rw_mount'}}, 'yaml_str': None, 'other_parameter': {}, 'func': <function [component] Data preparation for training at 0x7ffad269b040>}), 'kwargs': {}, 'instance_id': '052daa8e-d35d-45b3-97ab-3322d102df83', 'limits': None, 'identity': None, 'distribution': None, 'environment_variables': {}, 'environment': 'DataBook-Env:2', 'resources': None, 'swept': False})), ('train_job', Command({'parameters': {}, 'init': False, 'type': 'command', 'status': None, 'log_files': None, 'name': 'train_dbcc', 'description': None, 'tags': {}, 'properties': {}, 'id': None, 'Resource__source_path': None, 'base_path': None, 'creation_context': None, 'serialize': <msrest.serialization.Serializer object at 0x7ffad0501f40>, 'allowed_keys': {}, 'key_restriction': False, 'logger': <Logger attr_dict (WARNING)>, 'display_name': 'Train classifier', 'experiment_name': None, 'compute': None, 'services': None, 'job_inputs': {'train_data': <azure.ai.ml.entities._job.pipeline._io.PipelineOutputBase object at 0x7ffad042e100>, 'test_data': <azure.ai.ml.entities._job.pipeline._io.PipelineOutputBase object at 0x7ffad042e0d0>}, 'job_outputs': {}, 'inputs': {'train_data': <azure.ai.ml.entities._job.pipeline._io.PipelineInputBase object at 0x7ffad042e2e0>, 'test_data': <azure.ai.ml.entities._job.pipeline._io.PipelineInputBase object at 0x7ffad042e0a0>}, 'outputs': {'model_path': <azure.ai.ml.entities._job.pipeline._io.PipelineOutputBase object at 0x7ffad042e130>}, 'component': CommandComponent({'auto_increment_version': True, 'source': 'BUILDER', 'is_anonymous': False, 'name': 'train_dbcc', 'description': None, 'tags': {}, 'properties': {}, 'id': None, 'Resource__source_path': None, 'base_path': PosixPath('.'), 'creation_context': None, 'serialize': <msrest.serialization.Serializer object at 0x7ffad226a0d0>, 'command': 'python train-stage-script.py             --train_data ${{inputs.train_data}}             --test_data ${{inputs.test_data}}             --model_path ${{outputs.model_path}}\\n            ', 'code': './scripts', 'environment_variables': None, 'environment': 'DataBook-Env:2', 'distribution': None, 'resources': None, 'version': None, 'latest_version': None, 'schema': None, 'type': 'command', 'display_name': 'Train classifier', 'is_deterministic': True, 'inputs': {'train_data': {'type': 'uri_folder', 'mode': 'ro_mount'}, 'test_data': {'type': 'uri_folder', 'mode': 'ro_mount'}}, 'outputs': {'model_path': {'type': 'uri_folder', 'mode': 'rw_mount'}}, 'yaml_str': None, 'other_parameter': {}, 'func': <function [component] Train classifier at 0x7ffad4cdc550>}), 'kwargs': {}, 'instance_id': '85a8ed00-93b0-43d6-96c5-2b2f51bc983e', 'limits': None, 'identity': None, 'distribution': None, 'environment_variables': {}, 'environment': 'DataBook-Env:2', 'resources': None, 'swept': False}))]), 'job_types': {'command': 2}, 'job_sources': {'BUILDER': 2}}), 'type': 'pipeline', 'status': None, 'log_files': None, 'name': None, 'description': 'DBCC data_perp-train pipeline', 'tags': {}, 'properties': {}, 'id': None, 'Resource__source_path': None, 'base_path': '/mnt/batch/tasks/shared/LS_root/mounts/clusters/paolt-dev-cpu-vm/code/Users/paolt/databook_v1/mlops', 'creation_context': None, 'serialize': <msrest.serialization.Serializer object at 0x7ffad05adcd0>, 'display_name': 'dbcc_pipeline', 'experiment_name': None, 'compute': 'paolt-run-cpu-vm', 'services': None, 'settings': <azure.ai.ml.entities._job.pipeline.pipeline_job_settings.PipelineJobSettings object at 0x7ffad05adac0>, 'identity': None, 'default_code': None, 'default_environment': None})"
            ]
          },
          "execution_count": 23,
          "metadata": {},
          "output_type": "execute_result"
        }
      ],
      "source": [
        "pipeline = dbcc_pipeline(\n",
        "    pipeline_job_data_input=Input(type=\"uri_file\", path=\"azureml://datastores/workspaceblobstore/paths/dbcc_data/Standard_Databook_ 06 07 2022.csv.json\", mode=\"ro_mount\"),\n",
        "    pipeline_job_ranges_input=Input(type=\"uri_file\", path=\"azureml://datastores/workspaceblobstore/paths/dbcc_data/areas.txt\", mode=\"ro_mount\"),\n",
        ")\n",
        "pipeline"
      ]
    },
    {
      "cell_type": "code",
      "execution_count": 13,
      "metadata": {},
      "outputs": [
        {
          "name": "stderr",
          "output_type": "stream",
          "text": [
            "Found the config file in: /mnt/batch/tasks/shared/LS_root/mounts/clusters/paolt-dev-cpu-vm/code/Users/paolt/databook_v1/.azureml/config.json\n"
          ]
        },
        {
          "data": {
            "text/plain": [
              "MLClient(credential=<azure.identity._credentials.default.DefaultAzureCredential object at 0x7ffad5a3bc70>,\n",
              "         subscription_id=fadb1e32-9c96-4180-be9d-1811f4687cca,\n",
              "         resource_group_name=paolt-ml-v2,\n",
              "         workspace_name=paolt-ml-v2)"
            ]
          },
          "execution_count": 13,
          "metadata": {},
          "output_type": "execute_result"
        }
      ],
      "source": [
        "ml_client = MLClient.from_config(\n",
        "    credential=DefaultAzureCredential())\n",
        "ml_client"
      ]
    },
    {
      "cell_type": "code",
      "execution_count": 26,
      "metadata": {},
      "outputs": [
        {
          "data": {
            "text/html": [
              "<table style=\"width:100%\"><tr><th>Experiment</th><th>Name</th><th>Type</th><th>Status</th><th>Details Page</th></tr><tr><td>dbcc-test</td><td>sincere_oyster_8768n6tp4s</td><td>pipeline</td><td>Preparing</td><td><a href=\"https://ml.azure.com/runs/sincere_oyster_8768n6tp4s?wsid=/subscriptions/fadb1e32-9c96-4180-be9d-1811f4687cca/resourcegroups/paolt-ml-v2/workspaces/paolt-ml-v2&amp;tid=72f988bf-86f1-41af-91ab-2d7cd011db47\" target=\"_blank\" rel=\"noopener\">Link to Azure Machine Learning studio</a></td></tr></table>"
            ],
            "text/plain": [
              "PipelineJob({'inputs': {'pipeline_job_data_input': <azure.ai.ml.entities._job.pipeline._io.PipelineInput object at 0x7ffac9f21850>, 'pipeline_job_ranges_input': <azure.ai.ml.entities._job.pipeline._io.PipelineInput object at 0x7ffac9f21880>, 'pipeline_job_test_train_ratio': <azure.ai.ml.entities._job.pipeline._io.PipelineInput object at 0x7ffac9f21340>}, 'outputs': {'pipeline_job_train_data': <azure.ai.ml.entities._job.pipeline._io.PipelineOutput object at 0x7ffac9f214f0>, 'pipeline_job_test_data': <azure.ai.ml.entities._job.pipeline._io.PipelineOutput object at 0x7ffac9f21550>, 'pipeline_job_model': <azure.ai.ml.entities._job.pipeline._io.PipelineOutput object at 0x7ffac9f21490>}, 'component': PipelineComponent({'auto_increment_version': False, 'source': 'REMOTE.WORKSPACE.JOB', 'is_anonymous': True, 'name': 'azureml_anonymous', 'description': 'DBCC data_perp-train pipeline', 'tags': {}, 'properties': {}, 'id': None, 'Resource__source_path': None, 'base_path': None, 'creation_context': None, 'serialize': <msrest.serialization.Serializer object at 0x7ffac9f217c0>, 'version': '1', 'latest_version': None, 'schema': None, 'type': 'pipeline', 'display_name': 'dbcc_pipeline', 'is_deterministic': True, 'inputs': {'pipeline_job_data_input': {'type': 'unknown'}, 'pipeline_job_ranges_input': {'type': 'unknown'}, 'pipeline_job_test_train_ratio': {'type': 'unknown'}}, 'outputs': {'pipeline_job_train_data': {'type': 'unknown'}, 'pipeline_job_test_data': {'type': 'unknown'}, 'pipeline_job_model': {'type': 'unknown'}}, 'yaml_str': None, 'other_parameter': {}, 'func': <function [component] dbcc_pipeline at 0x7ffad040d820>, 'jobs': {'data_prep_job': Command({'parameters': {}, 'init': False, 'type': 'command', 'status': None, 'log_files': None, 'name': 'data_prep_job', 'description': None, 'tags': {}, 'properties': {}, 'id': None, 'Resource__source_path': None, 'base_path': None, 'creation_context': None, 'serialize': <msrest.serialization.Serializer object at 0x7ffad01fc580>, 'allowed_keys': {}, 'key_restriction': False, 'logger': <Logger attr_dict (WARNING)>, 'display_name': 'Data preparation for training', 'experiment_name': None, 'compute': None, 'services': None, 'job_inputs': {'data': '${{parent.inputs.pipeline_job_data_input}}', 'ranges': '${{parent.inputs.pipeline_job_ranges_input}}', 'test_train_ratio': '${{parent.inputs.pipeline_job_test_train_ratio}}'}, 'job_outputs': {'train_data': '${{parent.outputs.pipeline_job_train_data}}', 'test_data': '${{parent.outputs.pipeline_job_test_data}}'}, 'inputs': {'data': <azure.ai.ml.entities._job.pipeline._io.PipelineInputBase object at 0x7ffad01e9e20>, 'ranges': <azure.ai.ml.entities._job.pipeline._io.PipelineInputBase object at 0x7ffad01e9cd0>, 'test_train_ratio': <azure.ai.ml.entities._job.pipeline._io.PipelineInputBase object at 0x7ffad01e9670>}, 'outputs': {'train_data': <azure.ai.ml.entities._job.pipeline._io.PipelineOutputBase object at 0x7ffad01e93a0>, 'test_data': <azure.ai.ml.entities._job.pipeline._io.PipelineOutputBase object at 0x7ffad01e95b0>}, 'component': 'azureml_anonymous:c4487c3a-faa3-4128-adc2-c481b89d5e34', 'kwargs': {}, 'instance_id': '81eef599-6c19-4bae-8ccd-db9338ba14af', 'limits': None, 'identity': None, 'distribution': None, 'environment_variables': {}, 'environment': None, 'resources': None, 'swept': False}), 'train_job': Command({'parameters': {}, 'init': False, 'type': 'command', 'status': None, 'log_files': None, 'name': 'train_job', 'description': None, 'tags': {}, 'properties': {}, 'id': None, 'Resource__source_path': None, 'base_path': None, 'creation_context': None, 'serialize': <msrest.serialization.Serializer object at 0x7ffad01e9610>, 'allowed_keys': {}, 'key_restriction': False, 'logger': <Logger attr_dict (WARNING)>, 'display_name': 'Train classifier', 'experiment_name': None, 'compute': None, 'services': None, 'job_inputs': {'train_data': '${{parent.jobs.data_prep_job.outputs.train_data}}', 'test_data': '${{parent.jobs.data_prep_job.outputs.test_data}}'}, 'job_outputs': {'model_path': '${{parent.outputs.pipeline_job_model}}'}, 'inputs': {'train_data': <azure.ai.ml.entities._job.pipeline._io.PipelineInputBase object at 0x7ffac9f21a90>, 'test_data': <azure.ai.ml.entities._job.pipeline._io.PipelineInputBase object at 0x7ffac9f21a00>}, 'outputs': {'model_path': <azure.ai.ml.entities._job.pipeline._io.PipelineOutputBase object at 0x7ffac9f21a30>}, 'component': 'azureml_anonymous:1fc5243f-b148-455f-80a6-3ea020fca140', 'kwargs': {}, 'instance_id': 'dc9cee79-3d19-4f7a-9889-a51296c3e184', 'limits': None, 'identity': None, 'distribution': None, 'environment_variables': {}, 'environment': None, 'resources': None, 'swept': False})}, 'job_types': {'command': 2}, 'job_sources': {'REMOTE.WORKSPACE.COMPONENT': 2}}), 'type': 'pipeline', 'status': 'Preparing', 'log_files': None, 'name': 'sincere_oyster_8768n6tp4s', 'description': 'DBCC data_perp-train pipeline', 'tags': {}, 'properties': {'mlflow.source.git.repoURL': 'https://github.com/PAOLT/databook_v1.git', 'mlflow.source.git.branch': 'main', 'mlflow.source.git.commit': '32f0be8b7ab4690971fba89e811a1968deabd61d', 'azureml.git.dirty': 'True', 'azureml.DevPlatv2': 'true', 'azureml.runsource': 'azureml.PipelineRun', 'runSource': 'MFE', 'runType': 'HTTP', 'azureml.parameters': '{\"pipeline_job_test_train_ratio\":\"0.25\"}', 'azureml.continue_on_step_failure': 'False', 'azureml.continue_on_failed_optional_input': 'True', 'azureml.defaultComputeName': 'paolt-run-cpu-vm', 'azureml.defaultDataStoreName': 'workspaceblobstore', 'azureml.pipelineComponent': 'pipelinerun'}, 'id': '/subscriptions/fadb1e32-9c96-4180-be9d-1811f4687cca/resourceGroups/paolt-ml-v2/providers/Microsoft.MachineLearningServices/workspaces/paolt-ml-v2/jobs/sincere_oyster_8768n6tp4s', 'Resource__source_path': None, 'base_path': '/mnt/batch/tasks/shared/LS_root/mounts/clusters/paolt-dev-cpu-vm/code/Users/paolt/databook_v1/mlops', 'creation_context': <azure.ai.ml._restclient.v2022_02_01_preview.models._models_py3.SystemData object at 0x7ffac9f219a0>, 'serialize': <msrest.serialization.Serializer object at 0x7ffac9f213d0>, 'display_name': 'dbcc_pipeline', 'experiment_name': 'dbcc-test', 'compute': 'paolt-run-cpu-vm', 'services': {'Tracking': <azure.ai.ml._restclient.v2022_02_01_preview.models._models_py3.JobService object at 0x7ffac9f21970>, 'Studio': <azure.ai.ml._restclient.v2022_02_01_preview.models._models_py3.JobService object at 0x7ffac9f21be0>}, 'settings': <azure.ai.ml.entities._job.pipeline.pipeline_job_settings.PipelineJobSettings object at 0x7ffac9f219d0>, 'identity': None, 'default_code': None, 'default_environment': None})"
            ]
          },
          "execution_count": 26,
          "metadata": {},
          "output_type": "execute_result"
        }
      ],
      "source": [
        "pipeline_job = ml_client.jobs.create_or_update(\n",
        "    pipeline,\n",
        "    experiment_name=\"dbcc-test\",\n",
        ")\n",
        "pipeline_job"
      ]
    }
  ],
  "metadata": {
    "kernel_info": {
      "name": "python38-azureml"
    },
    "kernelspec": {
      "display_name": "Python 3.8 - AzureML",
      "language": "python",
      "name": "python38-azureml"
    },
    "language_info": {
      "codemirror_mode": {
        "name": "ipython",
        "version": 3
      },
      "file_extension": ".py",
      "mimetype": "text/x-python",
      "name": "python",
      "nbconvert_exporter": "python",
      "pygments_lexer": "ipython3",
      "version": "3.8.13"
    },
    "nteract": {
      "version": "nteract-front-end@1.0.0"
    }
  },
  "nbformat": 4,
  "nbformat_minor": 0
}
