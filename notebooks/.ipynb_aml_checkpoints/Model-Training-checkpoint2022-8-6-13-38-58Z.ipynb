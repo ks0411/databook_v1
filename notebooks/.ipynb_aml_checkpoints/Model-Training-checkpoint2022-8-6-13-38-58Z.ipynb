{
  "cells": [
    {
      "cell_type": "markdown",
      "source": [
        "# Model Training"
      ],
      "metadata": {}
    },
    {
      "cell_type": "markdown",
      "source": [
        "To run this NB, install the DataBook class wheel \r\n",
        "```\r\n",
        "pip install <wheel-file-name.whl>\r\n",
        "```"
      ],
      "metadata": {
        "nteract": {
          "transient": {
            "deleting": false
          }
        }
      }
    },
    {
      "cell_type": "code",
      "source": [
        "from databook.data_book import DataBook\n",
        "import pickle\n",
        "import sklearn as skl\n",
        "from sklearn.model_selection import train_test_split\n",
        "from sklearn.metrics import confusion_matrix\n",
        "from sklearn.ensemble import RandomForestClassifier\n",
        "from sklearn.metrics import classification_report\n",
        "from sklearn import svm\n",
        "from sklearn.linear_model import LogisticRegression\n",
        "print(skl.__version__)"
      ],
      "outputs": [
        {
          "output_type": "stream",
          "name": "stdout",
          "text": "1.0.2\n"
        }
      ],
      "execution_count": 4,
      "metadata": {}
    },
    {
      "cell_type": "code",
      "source": [
        "raw_data_path = '../Data-v1/Standard_Databook_ 06 07 2022.csv.json'\n",
        "formula_ranges = '../Data-v1/areas.txt'"
      ],
      "outputs": [],
      "execution_count": 5,
      "metadata": {}
    },
    {
      "cell_type": "markdown",
      "source": [
        "## Loading an Excel file as a DataBook object"
      ],
      "metadata": {}
    },
    {
      "cell_type": "code",
      "source": [
        "dBook = DataBook()\n",
        "dBook.load_file(raw_data_path)\n",
        "dBook.get_data(all_columns=True)"
      ],
      "outputs": [
        {
          "output_type": "execute_result",
          "execution_count": 6,
          "data": {
            "text/html": "<div>\n<style scoped>\n    .dataframe tbody tr th:only-of-type {\n        vertical-align: middle;\n    }\n\n    .dataframe tbody tr th {\n        vertical-align: top;\n    }\n\n    .dataframe thead th {\n        text-align: right;\n    }\n</style>\n<table border=\"1\" class=\"dataframe\">\n  <thead>\n    <tr style=\"text-align: right;\">\n      <th></th>\n      <th>workbookName</th>\n      <th>sheetName</th>\n      <th>numRow</th>\n      <th>numCol</th>\n      <th>cellAddress</th>\n      <th>cellValue</th>\n      <th>cellFormula</th>\n      <th>cellType</th>\n    </tr>\n    <tr>\n      <th>key</th>\n      <th></th>\n      <th></th>\n      <th></th>\n      <th></th>\n      <th></th>\n      <th></th>\n      <th></th>\n      <th></th>\n    </tr>\n  </thead>\n  <tbody>\n    <tr>\n      <th>Cover!A1</th>\n      <td>Standard_Databook_ 06 07 2022.xlsx</td>\n      <td>Cover</td>\n      <td>1</td>\n      <td>1</td>\n      <td>A1</td>\n      <td>None</td>\n      <td>None</td>\n      <td>General</td>\n    </tr>\n    <tr>\n      <th>Cover!B1</th>\n      <td>Standard_Databook_ 06 07 2022.xlsx</td>\n      <td>Cover</td>\n      <td>1</td>\n      <td>2</td>\n      <td>B1</td>\n      <td>None</td>\n      <td>None</td>\n      <td>Time</td>\n    </tr>\n    <tr>\n      <th>Cover!C1</th>\n      <td>Standard_Databook_ 06 07 2022.xlsx</td>\n      <td>Cover</td>\n      <td>1</td>\n      <td>3</td>\n      <td>C1</td>\n      <td>None</td>\n      <td>None</td>\n      <td>Time</td>\n    </tr>\n    <tr>\n      <th>Cover!D1</th>\n      <td>Standard_Databook_ 06 07 2022.xlsx</td>\n      <td>Cover</td>\n      <td>1</td>\n      <td>4</td>\n      <td>D1</td>\n      <td>None</td>\n      <td>None</td>\n      <td>Time</td>\n    </tr>\n    <tr>\n      <th>Cover!E1</th>\n      <td>Standard_Databook_ 06 07 2022.xlsx</td>\n      <td>Cover</td>\n      <td>1</td>\n      <td>5</td>\n      <td>E1</td>\n      <td>None</td>\n      <td>None</td>\n      <td>Time</td>\n    </tr>\n    <tr>\n      <th>...</th>\n      <td>...</td>\n      <td>...</td>\n      <td>...</td>\n      <td>...</td>\n      <td>...</td>\n      <td>...</td>\n      <td>...</td>\n      <td>...</td>\n    </tr>\n    <tr>\n      <th>Sheet12S!L55</th>\n      <td>Standard_Databook_ 06 07 2022.xlsx</td>\n      <td>Sheet12S</td>\n      <td>55</td>\n      <td>12</td>\n      <td>L55</td>\n      <td>None</td>\n      <td>None</td>\n      <td>Currency</td>\n    </tr>\n    <tr>\n      <th>Sheet12S!M55</th>\n      <td>Standard_Databook_ 06 07 2022.xlsx</td>\n      <td>Sheet12S</td>\n      <td>55</td>\n      <td>13</td>\n      <td>M55</td>\n      <td>None</td>\n      <td>None</td>\n      <td>Currency</td>\n    </tr>\n    <tr>\n      <th>Sheet12S!N55</th>\n      <td>Standard_Databook_ 06 07 2022.xlsx</td>\n      <td>Sheet12S</td>\n      <td>55</td>\n      <td>14</td>\n      <td>N55</td>\n      <td>None</td>\n      <td>None</td>\n      <td>Currency</td>\n    </tr>\n    <tr>\n      <th>Sheet12S!O55</th>\n      <td>Standard_Databook_ 06 07 2022.xlsx</td>\n      <td>Sheet12S</td>\n      <td>55</td>\n      <td>15</td>\n      <td>O55</td>\n      <td>None</td>\n      <td>None</td>\n      <td>Currency</td>\n    </tr>\n    <tr>\n      <th>Sheet12S!P55</th>\n      <td>Standard_Databook_ 06 07 2022.xlsx</td>\n      <td>Sheet12S</td>\n      <td>55</td>\n      <td>16</td>\n      <td>P55</td>\n      <td>None</td>\n      <td>None</td>\n      <td>Currency</td>\n    </tr>\n  </tbody>\n</table>\n<p>32612 rows × 8 columns</p>\n</div>",
            "text/plain": "                                    workbookName sheetName  numRow  numCol  \\\nkey                                                                          \nCover!A1      Standard_Databook_ 06 07 2022.xlsx     Cover       1       1   \nCover!B1      Standard_Databook_ 06 07 2022.xlsx     Cover       1       2   \nCover!C1      Standard_Databook_ 06 07 2022.xlsx     Cover       1       3   \nCover!D1      Standard_Databook_ 06 07 2022.xlsx     Cover       1       4   \nCover!E1      Standard_Databook_ 06 07 2022.xlsx     Cover       1       5   \n...                                          ...       ...     ...     ...   \nSheet12S!L55  Standard_Databook_ 06 07 2022.xlsx  Sheet12S      55      12   \nSheet12S!M55  Standard_Databook_ 06 07 2022.xlsx  Sheet12S      55      13   \nSheet12S!N55  Standard_Databook_ 06 07 2022.xlsx  Sheet12S      55      14   \nSheet12S!O55  Standard_Databook_ 06 07 2022.xlsx  Sheet12S      55      15   \nSheet12S!P55  Standard_Databook_ 06 07 2022.xlsx  Sheet12S      55      16   \n\n             cellAddress cellValue cellFormula  cellType  \nkey                                                       \nCover!A1              A1      None        None   General  \nCover!B1              B1      None        None      Time  \nCover!C1              C1      None        None      Time  \nCover!D1              D1      None        None      Time  \nCover!E1              E1      None        None      Time  \n...                  ...       ...         ...       ...  \nSheet12S!L55         L55      None        None  Currency  \nSheet12S!M55         M55      None        None  Currency  \nSheet12S!N55         N55      None        None  Currency  \nSheet12S!O55         O55      None        None  Currency  \nSheet12S!P55         P55      None        None  Currency  \n\n[32612 rows x 8 columns]"
          },
          "metadata": {}
        }
      ],
      "execution_count": 6,
      "metadata": {}
    },
    {
      "cell_type": "markdown",
      "source": [
        "## Add features\n",
        "\n",
        "We compute features for each cell, that is, for each cell we process its context.\n",
        "Here we are moving to a dataframe where each record is a representation of an individual Excel cell"
      ],
      "metadata": {}
    },
    {
      "cell_type": "code",
      "source": [
        "dBook.pre_process_data(for_training=True)\n",
        "dBook.get_data()"
      ],
      "outputs": [
        {
          "output_type": "execute_result",
          "execution_count": 7,
          "data": {
            "text/html": "<div>\n<style scoped>\n    .dataframe tbody tr th:only-of-type {\n        vertical-align: middle;\n    }\n\n    .dataframe tbody tr th {\n        vertical-align: top;\n    }\n\n    .dataframe thead th {\n        text-align: right;\n    }\n</style>\n<table border=\"1\" class=\"dataframe\">\n  <thead>\n    <tr style=\"text-align: right;\">\n      <th></th>\n      <th>sheetName</th>\n      <th>cellAddress</th>\n      <th>Label</th>\n      <th>up1_isBlank</th>\n      <th>up1_isFormula</th>\n      <th>up1_isSameType</th>\n      <th>up1_isWeaklyFormulaConsistent</th>\n      <th>up2_isWeaklyFormulaConsistent</th>\n      <th>dw1_isBlank</th>\n      <th>dw1_isFormula</th>\n      <th>dw1_isSameType</th>\n      <th>dw1_isWeaklyFormulaConsistent</th>\n      <th>dw2_isWeaklyFormulaConsistent</th>\n      <th>nb1_isWeaklyFormulaConsistent</th>\n      <th>dw1_isSum</th>\n    </tr>\n    <tr>\n      <th>key</th>\n      <th></th>\n      <th></th>\n      <th></th>\n      <th></th>\n      <th></th>\n      <th></th>\n      <th></th>\n      <th></th>\n      <th></th>\n      <th></th>\n      <th></th>\n      <th></th>\n      <th></th>\n      <th></th>\n      <th></th>\n    </tr>\n  </thead>\n  <tbody>\n    <tr>\n      <th>Cover!AZ1</th>\n      <td>Cover</td>\n      <td>AZ1</td>\n      <td>False</td>\n      <td>True</td>\n      <td>False</td>\n      <td>False</td>\n      <td>True</td>\n      <td>True</td>\n      <td>False</td>\n      <td>False</td>\n      <td>False</td>\n      <td>False</td>\n      <td>True</td>\n      <td>True</td>\n      <td>False</td>\n    </tr>\n    <tr>\n      <th>Lead PL!O1</th>\n      <td>Lead PL</td>\n      <td>O1</td>\n      <td>False</td>\n      <td>True</td>\n      <td>False</td>\n      <td>False</td>\n      <td>True</td>\n      <td>True</td>\n      <td>True</td>\n      <td>False</td>\n      <td>False</td>\n      <td>True</td>\n      <td>True</td>\n      <td>True</td>\n      <td>False</td>\n    </tr>\n    <tr>\n      <th>Lead PL!C7</th>\n      <td>Lead PL</td>\n      <td>C7</td>\n      <td>False</td>\n      <td>False</td>\n      <td>False</td>\n      <td>False</td>\n      <td>False</td>\n      <td>True</td>\n      <td>False</td>\n      <td>True</td>\n      <td>True</td>\n      <td>True</td>\n      <td>True</td>\n      <td>False</td>\n      <td>False</td>\n    </tr>\n    <tr>\n      <th>Lead PL!D7</th>\n      <td>Lead PL</td>\n      <td>D7</td>\n      <td>False</td>\n      <td>False</td>\n      <td>False</td>\n      <td>False</td>\n      <td>False</td>\n      <td>True</td>\n      <td>False</td>\n      <td>True</td>\n      <td>True</td>\n      <td>True</td>\n      <td>True</td>\n      <td>False</td>\n      <td>False</td>\n    </tr>\n    <tr>\n      <th>Lead PL!E7</th>\n      <td>Lead PL</td>\n      <td>E7</td>\n      <td>False</td>\n      <td>False</td>\n      <td>False</td>\n      <td>False</td>\n      <td>False</td>\n      <td>True</td>\n      <td>False</td>\n      <td>True</td>\n      <td>True</td>\n      <td>True</td>\n      <td>True</td>\n      <td>False</td>\n      <td>False</td>\n    </tr>\n    <tr>\n      <th>...</th>\n      <td>...</td>\n      <td>...</td>\n      <td>...</td>\n      <td>...</td>\n      <td>...</td>\n      <td>...</td>\n      <td>...</td>\n      <td>...</td>\n      <td>...</td>\n      <td>...</td>\n      <td>...</td>\n      <td>...</td>\n      <td>...</td>\n      <td>...</td>\n      <td>...</td>\n    </tr>\n    <tr>\n      <th>ScratchPad_TB!H152</th>\n      <td>ScratchPad_TB</td>\n      <td>H152</td>\n      <td>False</td>\n      <td>True</td>\n      <td>False</td>\n      <td>False</td>\n      <td>False</td>\n      <td>True</td>\n      <td>True</td>\n      <td>False</td>\n      <td>False</td>\n      <td>False</td>\n      <td>True</td>\n      <td>True</td>\n      <td>False</td>\n    </tr>\n    <tr>\n      <th>Sheet8S!A28</th>\n      <td>Sheet8S</td>\n      <td>A28</td>\n      <td>False</td>\n      <td>False</td>\n      <td>False</td>\n      <td>False</td>\n      <td>False</td>\n      <td>True</td>\n      <td>True</td>\n      <td>False</td>\n      <td>False</td>\n      <td>False</td>\n      <td>True</td>\n      <td>True</td>\n      <td>False</td>\n    </tr>\n    <tr>\n      <th>Sheet4S!A28</th>\n      <td>Sheet4S</td>\n      <td>A28</td>\n      <td>False</td>\n      <td>False</td>\n      <td>False</td>\n      <td>False</td>\n      <td>False</td>\n      <td>True</td>\n      <td>True</td>\n      <td>False</td>\n      <td>False</td>\n      <td>False</td>\n      <td>True</td>\n      <td>True</td>\n      <td>False</td>\n    </tr>\n    <tr>\n      <th>Sheet01S!B1</th>\n      <td>Sheet01S</td>\n      <td>B1</td>\n      <td>False</td>\n      <td>True</td>\n      <td>False</td>\n      <td>False</td>\n      <td>True</td>\n      <td>True</td>\n      <td>False</td>\n      <td>False</td>\n      <td>False</td>\n      <td>False</td>\n      <td>True</td>\n      <td>True</td>\n      <td>False</td>\n    </tr>\n    <tr>\n      <th>Sheet12S!A28</th>\n      <td>Sheet12S</td>\n      <td>A28</td>\n      <td>False</td>\n      <td>False</td>\n      <td>False</td>\n      <td>False</td>\n      <td>False</td>\n      <td>True</td>\n      <td>True</td>\n      <td>False</td>\n      <td>False</td>\n      <td>False</td>\n      <td>True</td>\n      <td>True</td>\n      <td>False</td>\n    </tr>\n  </tbody>\n</table>\n<p>3268 rows × 15 columns</p>\n</div>",
            "text/plain": "                        sheetName cellAddress  Label  up1_isBlank  \\\nkey                                                                 \nCover!AZ1                   Cover         AZ1  False         True   \nLead PL!O1                Lead PL          O1  False         True   \nLead PL!C7                Lead PL          C7  False        False   \nLead PL!D7                Lead PL          D7  False        False   \nLead PL!E7                Lead PL          E7  False        False   \n...                           ...         ...    ...          ...   \nScratchPad_TB!H152  ScratchPad_TB        H152  False         True   \nSheet8S!A28               Sheet8S         A28  False        False   \nSheet4S!A28               Sheet4S         A28  False        False   \nSheet01S!B1              Sheet01S          B1  False         True   \nSheet12S!A28             Sheet12S         A28  False        False   \n\n                    up1_isFormula  up1_isSameType  \\\nkey                                                 \nCover!AZ1                   False           False   \nLead PL!O1                  False           False   \nLead PL!C7                  False           False   \nLead PL!D7                  False           False   \nLead PL!E7                  False           False   \n...                           ...             ...   \nScratchPad_TB!H152          False           False   \nSheet8S!A28                 False           False   \nSheet4S!A28                 False           False   \nSheet01S!B1                 False           False   \nSheet12S!A28                False           False   \n\n                    up1_isWeaklyFormulaConsistent  \\\nkey                                                 \nCover!AZ1                                    True   \nLead PL!O1                                   True   \nLead PL!C7                                  False   \nLead PL!D7                                  False   \nLead PL!E7                                  False   \n...                                           ...   \nScratchPad_TB!H152                          False   \nSheet8S!A28                                 False   \nSheet4S!A28                                 False   \nSheet01S!B1                                  True   \nSheet12S!A28                                False   \n\n                    up2_isWeaklyFormulaConsistent  dw1_isBlank  dw1_isFormula  \\\nkey                                                                             \nCover!AZ1                                    True        False          False   \nLead PL!O1                                   True         True          False   \nLead PL!C7                                   True        False           True   \nLead PL!D7                                   True        False           True   \nLead PL!E7                                   True        False           True   \n...                                           ...          ...            ...   \nScratchPad_TB!H152                           True         True          False   \nSheet8S!A28                                  True         True          False   \nSheet4S!A28                                  True         True          False   \nSheet01S!B1                                  True        False          False   \nSheet12S!A28                                 True         True          False   \n\n                    dw1_isSameType  dw1_isWeaklyFormulaConsistent  \\\nkey                                                                 \nCover!AZ1                    False                          False   \nLead PL!O1                   False                           True   \nLead PL!C7                    True                           True   \nLead PL!D7                    True                           True   \nLead PL!E7                    True                           True   \n...                            ...                            ...   \nScratchPad_TB!H152           False                          False   \nSheet8S!A28                  False                          False   \nSheet4S!A28                  False                          False   \nSheet01S!B1                  False                          False   \nSheet12S!A28                 False                          False   \n\n                    dw2_isWeaklyFormulaConsistent  \\\nkey                                                 \nCover!AZ1                                    True   \nLead PL!O1                                   True   \nLead PL!C7                                   True   \nLead PL!D7                                   True   \nLead PL!E7                                   True   \n...                                           ...   \nScratchPad_TB!H152                           True   \nSheet8S!A28                                  True   \nSheet4S!A28                                  True   \nSheet01S!B1                                  True   \nSheet12S!A28                                 True   \n\n                    nb1_isWeaklyFormulaConsistent  dw1_isSum  \nkey                                                           \nCover!AZ1                                    True      False  \nLead PL!O1                                   True      False  \nLead PL!C7                                  False      False  \nLead PL!D7                                  False      False  \nLead PL!E7                                  False      False  \n...                                           ...        ...  \nScratchPad_TB!H152                           True      False  \nSheet8S!A28                                  True      False  \nSheet4S!A28                                  True      False  \nSheet01S!B1                                  True      False  \nSheet12S!A28                                 True      False  \n\n[3268 rows x 15 columns]"
          },
          "metadata": {}
        }
      ],
      "execution_count": 7,
      "metadata": {}
    },
    {
      "cell_type": "markdown",
      "source": [
        "## Add negative cases\n",
        "\n",
        "Negative cases are cells with formula marked as inconsistent and that are actual errors. This is required for training, cause we are missing supervision. Note this is adding the *Label* column to the dataframe (*False* means a positive case, i.e., a cell with an inconsistent formula that is not an error; *True* means a negative case, i.e., a cell with an inconsistent formula that **is an error**).\n",
        "\n",
        "To do this we have a file where we have manually enlisted *some* ranges holding formula, that is used to generate the negative cases. Note that we didn't provide all the ranges!"
      ],
      "metadata": {}
    },
    {
      "cell_type": "code",
      "source": [
        "dBook.add_positive_cases(formula_ranges)\n",
        "df=dBook.get_data(all_columns=False).copy(deep=True)\n",
        "df.reset_index(inplace=True)\n",
        "df"
      ],
      "outputs": [
        {
          "output_type": "execute_result",
          "execution_count": 8,
          "data": {
            "text/html": "<div>\n<style scoped>\n    .dataframe tbody tr th:only-of-type {\n        vertical-align: middle;\n    }\n\n    .dataframe tbody tr th {\n        vertical-align: top;\n    }\n\n    .dataframe thead th {\n        text-align: right;\n    }\n</style>\n<table border=\"1\" class=\"dataframe\">\n  <thead>\n    <tr style=\"text-align: right;\">\n      <th></th>\n      <th>key</th>\n      <th>sheetName</th>\n      <th>cellAddress</th>\n      <th>Label</th>\n      <th>up1_isBlank</th>\n      <th>up1_isFormula</th>\n      <th>up1_isSameType</th>\n      <th>up1_isWeaklyFormulaConsistent</th>\n      <th>up2_isWeaklyFormulaConsistent</th>\n      <th>dw1_isBlank</th>\n      <th>dw1_isFormula</th>\n      <th>dw1_isSameType</th>\n      <th>dw1_isWeaklyFormulaConsistent</th>\n      <th>dw2_isWeaklyFormulaConsistent</th>\n      <th>nb1_isWeaklyFormulaConsistent</th>\n      <th>dw1_isSum</th>\n    </tr>\n  </thead>\n  <tbody>\n    <tr>\n      <th>0</th>\n      <td>Cover!AZ1</td>\n      <td>Cover</td>\n      <td>AZ1</td>\n      <td>False</td>\n      <td>True</td>\n      <td>False</td>\n      <td>False</td>\n      <td>True</td>\n      <td>True</td>\n      <td>False</td>\n      <td>False</td>\n      <td>False</td>\n      <td>False</td>\n      <td>True</td>\n      <td>True</td>\n      <td>False</td>\n    </tr>\n    <tr>\n      <th>1</th>\n      <td>Lead PL!O1</td>\n      <td>Lead PL</td>\n      <td>O1</td>\n      <td>False</td>\n      <td>True</td>\n      <td>False</td>\n      <td>False</td>\n      <td>True</td>\n      <td>True</td>\n      <td>True</td>\n      <td>False</td>\n      <td>False</td>\n      <td>True</td>\n      <td>True</td>\n      <td>True</td>\n      <td>False</td>\n    </tr>\n    <tr>\n      <th>2</th>\n      <td>Lead PL!C7</td>\n      <td>Lead PL</td>\n      <td>C7</td>\n      <td>False</td>\n      <td>False</td>\n      <td>False</td>\n      <td>False</td>\n      <td>False</td>\n      <td>True</td>\n      <td>False</td>\n      <td>True</td>\n      <td>True</td>\n      <td>True</td>\n      <td>True</td>\n      <td>False</td>\n      <td>False</td>\n    </tr>\n    <tr>\n      <th>3</th>\n      <td>Lead PL!D7</td>\n      <td>Lead PL</td>\n      <td>D7</td>\n      <td>False</td>\n      <td>False</td>\n      <td>False</td>\n      <td>False</td>\n      <td>False</td>\n      <td>True</td>\n      <td>False</td>\n      <td>True</td>\n      <td>True</td>\n      <td>True</td>\n      <td>True</td>\n      <td>False</td>\n      <td>False</td>\n    </tr>\n    <tr>\n      <th>4</th>\n      <td>Lead PL!E7</td>\n      <td>Lead PL</td>\n      <td>E7</td>\n      <td>False</td>\n      <td>False</td>\n      <td>False</td>\n      <td>False</td>\n      <td>False</td>\n      <td>True</td>\n      <td>False</td>\n      <td>True</td>\n      <td>True</td>\n      <td>True</td>\n      <td>True</td>\n      <td>False</td>\n      <td>False</td>\n    </tr>\n    <tr>\n      <th>...</th>\n      <td>...</td>\n      <td>...</td>\n      <td>...</td>\n      <td>...</td>\n      <td>...</td>\n      <td>...</td>\n      <td>...</td>\n      <td>...</td>\n      <td>...</td>\n      <td>...</td>\n      <td>...</td>\n      <td>...</td>\n      <td>...</td>\n      <td>...</td>\n      <td>...</td>\n      <td>...</td>\n    </tr>\n    <tr>\n      <th>3331</th>\n      <td>R1!K14</td>\n      <td>R1</td>\n      <td>K14</td>\n      <td>True</td>\n      <td>False</td>\n      <td>True</td>\n      <td>True</td>\n      <td>False</td>\n      <td>True</td>\n      <td>False</td>\n      <td>True</td>\n      <td>True</td>\n      <td>False</td>\n      <td>True</td>\n      <td>True</td>\n      <td>False</td>\n    </tr>\n    <tr>\n      <th>3332</th>\n      <td>R1!K15</td>\n      <td>R1</td>\n      <td>K15</td>\n      <td>True</td>\n      <td>False</td>\n      <td>True</td>\n      <td>True</td>\n      <td>False</td>\n      <td>True</td>\n      <td>False</td>\n      <td>True</td>\n      <td>True</td>\n      <td>False</td>\n      <td>True</td>\n      <td>True</td>\n      <td>False</td>\n    </tr>\n    <tr>\n      <th>3333</th>\n      <td>R1!K16</td>\n      <td>R1</td>\n      <td>K16</td>\n      <td>True</td>\n      <td>False</td>\n      <td>True</td>\n      <td>True</td>\n      <td>False</td>\n      <td>True</td>\n      <td>False</td>\n      <td>True</td>\n      <td>True</td>\n      <td>False</td>\n      <td>True</td>\n      <td>True</td>\n      <td>False</td>\n    </tr>\n    <tr>\n      <th>3334</th>\n      <td>R1!K17</td>\n      <td>R1</td>\n      <td>K17</td>\n      <td>True</td>\n      <td>False</td>\n      <td>True</td>\n      <td>True</td>\n      <td>False</td>\n      <td>True</td>\n      <td>False</td>\n      <td>True</td>\n      <td>True</td>\n      <td>False</td>\n      <td>True</td>\n      <td>True</td>\n      <td>False</td>\n    </tr>\n    <tr>\n      <th>3335</th>\n      <td>R1!K18</td>\n      <td>R1</td>\n      <td>K18</td>\n      <td>True</td>\n      <td>False</td>\n      <td>True</td>\n      <td>True</td>\n      <td>False</td>\n      <td>True</td>\n      <td>False</td>\n      <td>True</td>\n      <td>True</td>\n      <td>False</td>\n      <td>True</td>\n      <td>False</td>\n      <td>False</td>\n    </tr>\n  </tbody>\n</table>\n<p>3336 rows × 16 columns</p>\n</div>",
            "text/plain": "             key sheetName cellAddress  Label  up1_isBlank  up1_isFormula  \\\n0      Cover!AZ1     Cover         AZ1  False         True          False   \n1     Lead PL!O1   Lead PL          O1  False         True          False   \n2     Lead PL!C7   Lead PL          C7  False        False          False   \n3     Lead PL!D7   Lead PL          D7  False        False          False   \n4     Lead PL!E7   Lead PL          E7  False        False          False   \n...          ...       ...         ...    ...          ...            ...   \n3331      R1!K14        R1         K14   True        False           True   \n3332      R1!K15        R1         K15   True        False           True   \n3333      R1!K16        R1         K16   True        False           True   \n3334      R1!K17        R1         K17   True        False           True   \n3335      R1!K18        R1         K18   True        False           True   \n\n      up1_isSameType  up1_isWeaklyFormulaConsistent  \\\n0              False                           True   \n1              False                           True   \n2              False                          False   \n3              False                          False   \n4              False                          False   \n...              ...                            ...   \n3331            True                          False   \n3332            True                          False   \n3333            True                          False   \n3334            True                          False   \n3335            True                          False   \n\n      up2_isWeaklyFormulaConsistent  dw1_isBlank  dw1_isFormula  \\\n0                              True        False          False   \n1                              True         True          False   \n2                              True        False           True   \n3                              True        False           True   \n4                              True        False           True   \n...                             ...          ...            ...   \n3331                           True        False           True   \n3332                           True        False           True   \n3333                           True        False           True   \n3334                           True        False           True   \n3335                           True        False           True   \n\n      dw1_isSameType  dw1_isWeaklyFormulaConsistent  \\\n0              False                          False   \n1              False                           True   \n2               True                           True   \n3               True                           True   \n4               True                           True   \n...              ...                            ...   \n3331            True                          False   \n3332            True                          False   \n3333            True                          False   \n3334            True                          False   \n3335            True                          False   \n\n      dw2_isWeaklyFormulaConsistent  nb1_isWeaklyFormulaConsistent  dw1_isSum  \n0                              True                           True      False  \n1                              True                           True      False  \n2                              True                          False      False  \n3                              True                          False      False  \n4                              True                          False      False  \n...                             ...                            ...        ...  \n3331                           True                           True      False  \n3332                           True                           True      False  \n3333                           True                           True      False  \n3334                           True                           True      False  \n3335                           True                          False      False  \n\n[3336 rows x 16 columns]"
          },
          "metadata": {}
        }
      ],
      "execution_count": 8,
      "metadata": {}
    },
    {
      "cell_type": "code",
      "source": [
        "df[df.key==\"R1!K18\"]"
      ],
      "outputs": [
        {
          "output_type": "execute_result",
          "execution_count": 9,
          "data": {
            "text/html": "<div>\n<style scoped>\n    .dataframe tbody tr th:only-of-type {\n        vertical-align: middle;\n    }\n\n    .dataframe tbody tr th {\n        vertical-align: top;\n    }\n\n    .dataframe thead th {\n        text-align: right;\n    }\n</style>\n<table border=\"1\" class=\"dataframe\">\n  <thead>\n    <tr style=\"text-align: right;\">\n      <th></th>\n      <th>key</th>\n      <th>sheetName</th>\n      <th>cellAddress</th>\n      <th>Label</th>\n      <th>up1_isBlank</th>\n      <th>up1_isFormula</th>\n      <th>up1_isSameType</th>\n      <th>up1_isWeaklyFormulaConsistent</th>\n      <th>up2_isWeaklyFormulaConsistent</th>\n      <th>dw1_isBlank</th>\n      <th>dw1_isFormula</th>\n      <th>dw1_isSameType</th>\n      <th>dw1_isWeaklyFormulaConsistent</th>\n      <th>dw2_isWeaklyFormulaConsistent</th>\n      <th>nb1_isWeaklyFormulaConsistent</th>\n      <th>dw1_isSum</th>\n    </tr>\n  </thead>\n  <tbody>\n    <tr>\n      <th>379</th>\n      <td>R1!K18</td>\n      <td>R1</td>\n      <td>K18</td>\n      <td>False</td>\n      <td>False</td>\n      <td>True</td>\n      <td>True</td>\n      <td>True</td>\n      <td>True</td>\n      <td>False</td>\n      <td>True</td>\n      <td>True</td>\n      <td>False</td>\n      <td>True</td>\n      <td>False</td>\n      <td>False</td>\n    </tr>\n    <tr>\n      <th>3335</th>\n      <td>R1!K18</td>\n      <td>R1</td>\n      <td>K18</td>\n      <td>True</td>\n      <td>False</td>\n      <td>True</td>\n      <td>True</td>\n      <td>False</td>\n      <td>True</td>\n      <td>False</td>\n      <td>True</td>\n      <td>True</td>\n      <td>False</td>\n      <td>True</td>\n      <td>False</td>\n      <td>False</td>\n    </tr>\n  </tbody>\n</table>\n</div>",
            "text/plain": "         key sheetName cellAddress  Label  up1_isBlank  up1_isFormula  \\\n379   R1!K18        R1         K18  False        False           True   \n3335  R1!K18        R1         K18   True        False           True   \n\n      up1_isSameType  up1_isWeaklyFormulaConsistent  \\\n379             True                           True   \n3335            True                          False   \n\n      up2_isWeaklyFormulaConsistent  dw1_isBlank  dw1_isFormula  \\\n379                            True        False           True   \n3335                           True        False           True   \n\n      dw1_isSameType  dw1_isWeaklyFormulaConsistent  \\\n379             True                          False   \n3335            True                          False   \n\n      dw2_isWeaklyFormulaConsistent  nb1_isWeaklyFormulaConsistent  dw1_isSum  \n379                            True                          False      False  \n3335                           True                          False      False  "
          },
          "metadata": {}
        }
      ],
      "execution_count": 9,
      "metadata": {}
    },
    {
      "cell_type": "code",
      "source": [
        "len(df)"
      ],
      "outputs": [
        {
          "output_type": "execute_result",
          "execution_count": 10,
          "data": {
            "text/plain": "3336"
          },
          "metadata": {}
        }
      ],
      "execution_count": 10,
      "metadata": {}
    },
    {
      "cell_type": "code",
      "source": [
        "df.columns"
      ],
      "outputs": [
        {
          "output_type": "execute_result",
          "execution_count": 11,
          "data": {
            "text/plain": "Index(['key', 'sheetName', 'cellAddress', 'Label', 'up1_isBlank',\n       'up1_isFormula', 'up1_isSameType', 'up1_isWeaklyFormulaConsistent',\n       'up2_isWeaklyFormulaConsistent', 'dw1_isBlank', 'dw1_isFormula',\n       'dw1_isSameType', 'dw1_isWeaklyFormulaConsistent',\n       'dw2_isWeaklyFormulaConsistent', 'nb1_isWeaklyFormulaConsistent',\n       'dw1_isSum'],\n      dtype='object')"
          },
          "metadata": {}
        }
      ],
      "execution_count": 11,
      "metadata": {}
    },
    {
      "cell_type": "markdown",
      "source": [
        "## Split traint and test data\n",
        "\n",
        "We extract the name of the Excel sheet, and we filter the dataframe over sheets that contains some positive cases, to give it to *train-tests-plit*. The only reason we are doing this is that we didn't process all the available ranges with formulawhen adding negative cases!"
      ],
      "metadata": {}
    },
    {
      "cell_type": "code",
      "source": [
        "sheet_names = df[df.Label==True]['sheetName'].unique()\n",
        "sheet_names"
      ],
      "outputs": [
        {
          "output_type": "execute_result",
          "execution_count": 12,
          "data": {
            "text/plain": "array(['Lead BS', 'R1'], dtype=object)"
          },
          "metadata": {}
        }
      ],
      "execution_count": 12,
      "metadata": {}
    },
    {
      "cell_type": "code",
      "source": [
        "red_df = df[df['sheetName'].isin(sheet_names)]"
      ],
      "outputs": [],
      "execution_count": 13,
      "metadata": {}
    },
    {
      "cell_type": "code",
      "source": [
        "features = [c for c in df.columns if c not in ['Label', 'key', 'cellAddress', 'sheetName']]\n",
        "X = red_df[features]\n",
        "Y = red_df['Label']"
      ],
      "outputs": [],
      "execution_count": 14,
      "metadata": {}
    },
    {
      "cell_type": "code",
      "source": [
        "X_train, X_test, Y_train, Y_test = train_test_split(X,Y, test_size=.2)"
      ],
      "outputs": [],
      "execution_count": 15,
      "metadata": {}
    },
    {
      "cell_type": "code",
      "source": [
        "X_train"
      ],
      "outputs": [
        {
          "output_type": "execute_result",
          "execution_count": 16,
          "data": {
            "text/html": "<div>\n<style scoped>\n    .dataframe tbody tr th:only-of-type {\n        vertical-align: middle;\n    }\n\n    .dataframe tbody tr th {\n        vertical-align: top;\n    }\n\n    .dataframe thead th {\n        text-align: right;\n    }\n</style>\n<table border=\"1\" class=\"dataframe\">\n  <thead>\n    <tr style=\"text-align: right;\">\n      <th></th>\n      <th>up1_isBlank</th>\n      <th>up1_isFormula</th>\n      <th>up1_isSameType</th>\n      <th>up1_isWeaklyFormulaConsistent</th>\n      <th>up2_isWeaklyFormulaConsistent</th>\n      <th>dw1_isBlank</th>\n      <th>dw1_isFormula</th>\n      <th>dw1_isSameType</th>\n      <th>dw1_isWeaklyFormulaConsistent</th>\n      <th>dw2_isWeaklyFormulaConsistent</th>\n      <th>nb1_isWeaklyFormulaConsistent</th>\n      <th>dw1_isSum</th>\n    </tr>\n  </thead>\n  <tbody>\n    <tr>\n      <th>292</th>\n      <td>True</td>\n      <td>False</td>\n      <td>False</td>\n      <td>True</td>\n      <td>True</td>\n      <td>True</td>\n      <td>False</td>\n      <td>False</td>\n      <td>True</td>\n      <td>True</td>\n      <td>True</td>\n      <td>False</td>\n    </tr>\n    <tr>\n      <th>272</th>\n      <td>False</td>\n      <td>True</td>\n      <td>True</td>\n      <td>False</td>\n      <td>False</td>\n      <td>True</td>\n      <td>False</td>\n      <td>True</td>\n      <td>True</td>\n      <td>False</td>\n      <td>False</td>\n      <td>False</td>\n    </tr>\n    <tr>\n      <th>375</th>\n      <td>False</td>\n      <td>True</td>\n      <td>True</td>\n      <td>True</td>\n      <td>True</td>\n      <td>False</td>\n      <td>True</td>\n      <td>True</td>\n      <td>False</td>\n      <td>True</td>\n      <td>False</td>\n      <td>False</td>\n    </tr>\n    <tr>\n      <th>430</th>\n      <td>False</td>\n      <td>True</td>\n      <td>True</td>\n      <td>False</td>\n      <td>False</td>\n      <td>True</td>\n      <td>False</td>\n      <td>True</td>\n      <td>True</td>\n      <td>False</td>\n      <td>False</td>\n      <td>False</td>\n    </tr>\n    <tr>\n      <th>328</th>\n      <td>False</td>\n      <td>True</td>\n      <td>True</td>\n      <td>False</td>\n      <td>False</td>\n      <td>False</td>\n      <td>True</td>\n      <td>True</td>\n      <td>False</td>\n      <td>False</td>\n      <td>True</td>\n      <td>False</td>\n    </tr>\n    <tr>\n      <th>...</th>\n      <td>...</td>\n      <td>...</td>\n      <td>...</td>\n      <td>...</td>\n      <td>...</td>\n      <td>...</td>\n      <td>...</td>\n      <td>...</td>\n      <td>...</td>\n      <td>...</td>\n      <td>...</td>\n      <td>...</td>\n    </tr>\n    <tr>\n      <th>239</th>\n      <td>False</td>\n      <td>True</td>\n      <td>True</td>\n      <td>True</td>\n      <td>True</td>\n      <td>False</td>\n      <td>True</td>\n      <td>True</td>\n      <td>False</td>\n      <td>True</td>\n      <td>False</td>\n      <td>False</td>\n    </tr>\n    <tr>\n      <th>3305</th>\n      <td>False</td>\n      <td>True</td>\n      <td>True</td>\n      <td>False</td>\n      <td>False</td>\n      <td>False</td>\n      <td>True</td>\n      <td>True</td>\n      <td>False</td>\n      <td>False</td>\n      <td>False</td>\n      <td>False</td>\n    </tr>\n    <tr>\n      <th>317</th>\n      <td>True</td>\n      <td>False</td>\n      <td>True</td>\n      <td>True</td>\n      <td>True</td>\n      <td>True</td>\n      <td>False</td>\n      <td>True</td>\n      <td>True</td>\n      <td>True</td>\n      <td>True</td>\n      <td>False</td>\n    </tr>\n    <tr>\n      <th>237</th>\n      <td>False</td>\n      <td>True</td>\n      <td>True</td>\n      <td>True</td>\n      <td>False</td>\n      <td>False</td>\n      <td>True</td>\n      <td>True</td>\n      <td>True</td>\n      <td>False</td>\n      <td>True</td>\n      <td>False</td>\n    </tr>\n    <tr>\n      <th>3327</th>\n      <td>False</td>\n      <td>True</td>\n      <td>True</td>\n      <td>False</td>\n      <td>True</td>\n      <td>False</td>\n      <td>True</td>\n      <td>True</td>\n      <td>False</td>\n      <td>True</td>\n      <td>True</td>\n      <td>False</td>\n    </tr>\n  </tbody>\n</table>\n<p>231 rows × 12 columns</p>\n</div>",
            "text/plain": "      up1_isBlank  up1_isFormula  up1_isSameType  \\\n292          True          False           False   \n272         False           True            True   \n375         False           True            True   \n430         False           True            True   \n328         False           True            True   \n...           ...            ...             ...   \n239         False           True            True   \n3305        False           True            True   \n317          True          False            True   \n237         False           True            True   \n3327        False           True            True   \n\n      up1_isWeaklyFormulaConsistent  up2_isWeaklyFormulaConsistent  \\\n292                            True                           True   \n272                           False                          False   \n375                            True                           True   \n430                           False                          False   \n328                           False                          False   \n...                             ...                            ...   \n239                            True                           True   \n3305                          False                          False   \n317                            True                           True   \n237                            True                          False   \n3327                          False                           True   \n\n      dw1_isBlank  dw1_isFormula  dw1_isSameType  \\\n292          True          False           False   \n272          True          False            True   \n375         False           True            True   \n430          True          False            True   \n328         False           True            True   \n...           ...            ...             ...   \n239         False           True            True   \n3305        False           True            True   \n317          True          False            True   \n237         False           True            True   \n3327        False           True            True   \n\n      dw1_isWeaklyFormulaConsistent  dw2_isWeaklyFormulaConsistent  \\\n292                            True                           True   \n272                            True                          False   \n375                           False                           True   \n430                            True                          False   \n328                           False                          False   \n...                             ...                            ...   \n239                           False                           True   \n3305                          False                          False   \n317                            True                           True   \n237                            True                          False   \n3327                          False                           True   \n\n      nb1_isWeaklyFormulaConsistent  dw1_isSum  \n292                            True      False  \n272                           False      False  \n375                           False      False  \n430                           False      False  \n328                            True      False  \n...                             ...        ...  \n239                           False      False  \n3305                          False      False  \n317                            True      False  \n237                            True      False  \n3327                           True      False  \n\n[231 rows x 12 columns]"
          },
          "metadata": {}
        }
      ],
      "execution_count": 16,
      "metadata": {}
    },
    {
      "cell_type": "code",
      "source": [
        "Y_train"
      ],
      "outputs": [
        {
          "output_type": "execute_result",
          "execution_count": 17,
          "data": {
            "text/plain": "292     False\n272     False\n375     False\n430     False\n328     False\n        ...  \n239     False\n3305     True\n317     False\n237     False\n3327     True\nName: Label, Length: 231, dtype: bool"
          },
          "metadata": {}
        }
      ],
      "execution_count": 17,
      "metadata": {}
    },
    {
      "cell_type": "code",
      "source": [
        "len(X_train), len(X_test)"
      ],
      "outputs": [
        {
          "output_type": "execute_result",
          "execution_count": 18,
          "data": {
            "text/plain": "(231, 58)"
          },
          "metadata": {}
        }
      ],
      "execution_count": 18,
      "metadata": {}
    },
    {
      "cell_type": "code",
      "source": [
        "Y_train.value_counts(normalize=False)"
      ],
      "outputs": [
        {
          "output_type": "execute_result",
          "execution_count": 19,
          "data": {
            "text/plain": "False    176\nTrue      55\nName: Label, dtype: int64"
          },
          "metadata": {}
        }
      ],
      "execution_count": 19,
      "metadata": {}
    },
    {
      "cell_type": "code",
      "source": [
        "Y_test.value_counts(normalize=False)"
      ],
      "outputs": [
        {
          "output_type": "execute_result",
          "execution_count": 20,
          "data": {
            "text/plain": "False    45\nTrue     13\nName: Label, dtype: int64"
          },
          "metadata": {}
        }
      ],
      "execution_count": 20,
      "metadata": {}
    },
    {
      "cell_type": "markdown",
      "source": [
        "Naif model that evaluates all to True:"
      ],
      "metadata": {}
    },
    {
      "cell_type": "code",
      "source": [
        "TP = 9\n",
        "FP = 49\n",
        "TN = 0\n",
        "FN = 0\n",
        "all = 49+9\n",
        "print(f\"Recall={TP/(TP+FN)}, Precision={TP/(TP+FP)}, Accuracy={(TP+TN)/all}\")"
      ],
      "outputs": [
        {
          "output_type": "stream",
          "name": "stdout",
          "text": "Recall=1.0, Precision=0.15517241379310345, Accuracy=0.15517241379310345\n"
        }
      ],
      "execution_count": 21,
      "metadata": {}
    },
    {
      "cell_type": "markdown",
      "source": [
        "## Train a LR model\n",
        "\n",
        "Please note this is just an example, and more work is required. For example:\n",
        "\n",
        "- AzureML AutoML could be used to try more models/parameters\n",
        "- More data for training would be required\n",
        "- An analysis of useful features would be welcome, as well as using more meaningful features (e.g., cell colors)"
      ],
      "metadata": {}
    },
    {
      "cell_type": "code",
      "source": [
        "LRC = LogisticRegression(random_state=0, solver='lbfgs', multi_class='ovr')\n",
        "LRC.fit(X_train, Y_train)\n",
        "LRC"
      ],
      "outputs": [
        {
          "output_type": "execute_result",
          "execution_count": 22,
          "data": {
            "text/plain": "LogisticRegression(multi_class='ovr', random_state=0)"
          },
          "metadata": {}
        }
      ],
      "execution_count": 22,
      "metadata": {}
    },
    {
      "cell_type": "code",
      "source": [
        "predicted_LRC = LRC.predict(X_test)\n",
        "confusion_matrix(predicted_LRC, Y_test)"
      ],
      "outputs": [
        {
          "output_type": "execute_result",
          "execution_count": 23,
          "data": {
            "text/plain": "array([[43,  9],\n       [ 2,  4]], dtype=int64)"
          },
          "metadata": {}
        }
      ],
      "execution_count": 23,
      "metadata": {}
    },
    {
      "cell_type": "code",
      "source": [
        "print(classification_report(Y_test, predicted_LRC))"
      ],
      "outputs": [
        {
          "output_type": "stream",
          "name": "stdout",
          "text": "              precision    recall  f1-score   support\n\n       False       0.83      0.96      0.89        45\n        True       0.67      0.31      0.42        13\n\n    accuracy                           0.81        58\n   macro avg       0.75      0.63      0.65        58\nweighted avg       0.79      0.81      0.78        58\n\n"
        }
      ],
      "execution_count": 24,
      "metadata": {}
    },
    {
      "cell_type": "markdown",
      "source": [
        "Save the model as a pickle file"
      ],
      "metadata": {}
    },
    {
      "cell_type": "code",
      "source": [
        "with open ('./model.pkl', 'bw') as f:\n",
        "    pickle.dump(LRC, f)"
      ],
      "outputs": [],
      "execution_count": 25,
      "metadata": {}
    }
  ],
  "metadata": {
    "kernelspec": {
      "name": "python38-azureml",
      "language": "python",
      "display_name": "Python 3.8 - AzureML"
    },
    "language_info": {
      "name": "python",
      "version": "3.8.13",
      "mimetype": "text/x-python",
      "codemirror_mode": {
        "name": "ipython",
        "version": 3
      },
      "pygments_lexer": "ipython3",
      "nbconvert_exporter": "python",
      "file_extension": ".py"
    },
    "kernel_info": {
      "name": "python38-azureml"
    },
    "nteract": {
      "version": "nteract-front-end@1.0.0"
    }
  },
  "nbformat": 4,
  "nbformat_minor": 0
}